{
 "cells": [
  {
   "cell_type": "markdown",
   "id": "c5b7883f",
   "metadata": {},
   "source": [
    "## Ultimate Inc. Take Home Challenge"
   ]
  },
  {
   "cell_type": "markdown",
   "id": "d9f39f71",
   "metadata": {},
   "source": [
    "### Part 2 ‐ Experiment and metrics design\n",
    " The neighboring cities of Gotham and Metropolis have complementary circadian rhythms: \n",
    "- on weekdays:\n",
    "        Ultimate Gotham is most active at night\n",
    "        Ultimate Metropolis is most active during the day\n",
    "         \n",
    "- On weekends: \n",
    "        there is reasonable activity in both cities.\n",
    "     \n",
    "However, a toll bridge, with a two way toll, between the two cities causes driver partners to tend to be exclusive to each city. \n",
    "\n",
    "The Ultimate managers of city operations for the two cities have proposed an experiment to encourage driver partners to be available in both cities, by reimbursing all toll costs.\n",
    "\n",
    "1) What would you choose as the key measure of success of this experiment in encouraging driver partners to serve both cities, and why would you choose this metric?\n",
    "\n",
    "2) Describe a practical experiment you would design to compare the effectiveness of the proposed change in relation to the key measure of success. Please provide details on:\n",
    "\n",
    "    a) how you will implement the experiment\n",
    "    b) what statistical test(s) you will conduct to verify the significance of the observation\n",
    "    c) how you would interpret the results and provide recommendations to the city operations team along with any caveats.\n",
    "    \n",
    "Note: The two cities of Gotham and Metropolis are not in the provided dataset; however, you do not need this information to answer Part 2."
   ]
  },
  {
   "cell_type": "markdown",
   "id": "fc3de6dd",
   "metadata": {},
   "source": [
    "### Data description\n",
    "- city: city this user signed up in\n",
    "- phone: primary device for this user\n",
    "- signup_date: date of account registration; in the form ‘YYYYMMDD’\n",
    "- last_trip_date: the last time this user completed a trip; in the form ‘YYYYMMDD’\n",
    "- avg_dist: the average distance in miles per trip taken in the first 30 days after signup\n",
    "- avg_rating_by_driver: the rider’s average rating over all of their trips\n",
    "- avg_rating_of_driver: the rider’s average rating of their drivers over all of their trips\n",
    "- surge_pct: the percent of trips taken with surge multiplier > 1\n",
    "- avg_surge: The average surge multiplier over all of this user’s trips\n",
    "- trips_in_first_30_days: the number of trips this user took in the first 30 days after signing up\n",
    "- ultimate_black_user: TRUE if the user took an Ultimate Black in their first 30 days; FALSE otherwise\n",
    "- weekday_pct: the percent of the user’s trips occurring during a weekday"
   ]
  },
  {
   "cell_type": "markdown",
   "id": "9214ae0d",
   "metadata": {},
   "source": [
    "### 1. \n",
    "\n",
    "1. My first choice for a measure of success would be the number of toll reimbursements. \n",
    "\n",
    "The idea being: drivers are currently hesitant to service both side of the bridge, but if toll reimbursements get used then they will be servicing both sides of the bridge. \n",
    "\n",
    "2. Second could be trip distance.\n",
    "\n",
    "With the idea being that traveling between two cities would increase distance traveled.\n",
    "\n",
    "3. Possibly paired with toll reimbursement dollars, are drivers beginning to drive at different times of the day, or longer days. (trips per day) Due to the life style difference of the two cities.\n",
    "\n",
    "4. We could also ask the driving partners, is the toll stopping you from servicing both cities?"
   ]
  },
  {
   "cell_type": "markdown",
   "id": "d4db2341",
   "metadata": {},
   "source": [
    "### 2.\n",
    "\n",
    "a) Keep track of toll reimbursements. If receipts are time stamped you could see if drivers are choosing to service the other city during their respective peak times. If no time stamp, but more drivers are servicing both cities during their peak hours surge pricing should decrease. So we would see a decrease in the number of surge trips. If the two cities have different avg trip distances, you could see a convergence. All drivers avg trips could even out. \n",
    "\n",
    "b) find a p value by comparing either: toll driving period (last 30 days or same time period the year before) against free toll driving period (next 30 days) or select a percent of drivers to participate in toll reimbursement and measure the change in driving habits against the rest over the same time period. \n",
    "\n",
    "option 2 would cost less in toll reimbursements, however if drivers dislike not being selected for the test group then we might create angry drivers. \n",
    "\n",
    "I would suggestion option 1. It might not be as scientific because due to different time periods (same length just different times of year or comparing same time periods in different years) It would also cost more in toll reimbursements. However it would ensure you attract the drivers who are interested in servicing both cities, not all drivers might be.\n",
    "\n",
    "c) Interpreting the results: Does toll reimbursement matter? Has the increase in drivers servicing both cities decreased surge pricing and increased total number of rides? Ultimately I would attempt to see if there was an increase in ride count compared to toll reimbursements.\n",
    "\n",
    "Adding toll reimbursement would need to either generate enough revenue through more rides to offset the new cost of doing business. Or make happier drivers, to retain 'staff'.  There is also a potential for driver ratings to increase if they are happier.  It could also decrease ratings because drivers are not familiar with the new city."
   ]
  },
  {
   "cell_type": "code",
   "execution_count": null,
   "id": "e1aad075",
   "metadata": {},
   "outputs": [],
   "source": []
  }
 ],
 "metadata": {
  "kernelspec": {
   "display_name": "Python 3 (ipykernel)",
   "language": "python",
   "name": "python3"
  },
  "language_info": {
   "codemirror_mode": {
    "name": "ipython",
    "version": 3
   },
   "file_extension": ".py",
   "mimetype": "text/x-python",
   "name": "python",
   "nbconvert_exporter": "python",
   "pygments_lexer": "ipython3",
   "version": "3.8.12"
  }
 },
 "nbformat": 4,
 "nbformat_minor": 5
}
