{
 "cells": [
  {
   "cell_type": "markdown",
   "id": "cf72a38d",
   "metadata": {},
   "source": [
    "## Ultimate Inc. Take Home Challenge"
   ]
  },
  {
   "cell_type": "markdown",
   "id": "dd366d59",
   "metadata": {},
   "source": [
    "### Part 3 ‐ Predictive modeling"
   ]
  },
  {
   "cell_type": "markdown",
   "id": "55b8b279",
   "metadata": {},
   "source": [
    "Ultimate is interested in predicting rider retention. To help explore this question, we have provided a sample dataset of a cohort of users who signed up for an Ultimate account in January 2014. The data was pulled several months later; we consider a user retained if they were “active” (i.e. took a trip) in the preceding 30 days.\n",
    "\n",
    "We would like you to use this data set to help understand what factors are the best predictors for retention, and offer suggestions to operationalize those insights to help Ultimate.\n",
    "\n",
    "The data is in the attached file ultimate_data_challenge.json. See below for a detailed description of the dataset. Please include any code you wrote for the analysis and delete the dataset when you have finished with the challenge.\n",
    "\n",
    "1. Perform any cleaning, exploratory analysis, and/or visualizations to use the provided data for this analysis (a few sentences/plots describing your approach will suffice). What fraction of the observed users were retained?\n",
    "\n",
    "2. Build a predictive model to help Ultimate determine whether or not a user will be active in their 6th month on the system. Discuss why you chose your approach, what alternatives you considered, and any concerns you have. How valid is your model? Include any key indicators of model performance.\n",
    "\n",
    "3. Briefly discuss how Ultimate might leverage the insights gained from the model to improve its long term rider retention (again, a few sentences will suffice).\n"
   ]
  },
  {
   "cell_type": "markdown",
   "id": "7e85423e",
   "metadata": {},
   "source": [
    "Data description\n",
    "- city: city this user signed up in\n",
    "- phone: primary device for this user\n",
    "- signup_date: date of account registration; in the form ‘YYYYMMDD’\n",
    "- last_trip_date: the last time this user completed a trip; in the form ‘YYYYMMDD’\n",
    "- avg_dist: the average distance in miles per trip taken in the first 30 days after signup\n",
    "- avg_rating_by_driver: the rider’s average rating over all of their trips\n",
    "- avg_rating_of_driver: the rider’s average rating of their drivers over all of their trips\n",
    "- surge_pct: the percent of trips taken with surge multiplier > 1\n",
    "- avg_surge: The average surge multiplier over all of this user’s trips\n",
    "- trips_in_first_30_days: the number of trips this user took in the first 30 days after signing up\n",
    "- ultimate_black_user: TRUE if the user took an Ultimate Black in their first 30 days; FALSE otherwise\n",
    "- weekday_pct: the percent of the user’s trips occurring during a weekday"
   ]
  },
  {
   "cell_type": "code",
   "execution_count": 67,
   "id": "2f4a6575",
   "metadata": {},
   "outputs": [],
   "source": [
    "import pandas as pd\n",
    "import numpy as np\n",
    "\n",
    "from sklearn.model_selection import train_test_split\n",
    "from sklearn.metrics import accuracy_score, confusion_matrix, classification_report\n",
    "from sklearn import preprocessing\n",
    "from sklearn.ensemble import RandomForestClassifier\n",
    "from sklearn import svm\n",
    "\n",
    "import matplotlib.pyplot as plt"
   ]
  },
  {
   "cell_type": "code",
   "execution_count": 2,
   "id": "79d0ecbd",
   "metadata": {},
   "outputs": [],
   "source": [
    "df = pd.read_json('ultimate_data_challenge.json')"
   ]
  },
  {
   "cell_type": "code",
   "execution_count": 3,
   "id": "c030d0a0",
   "metadata": {},
   "outputs": [
    {
     "data": {
      "text/html": [
       "<div>\n",
       "<style scoped>\n",
       "    .dataframe tbody tr th:only-of-type {\n",
       "        vertical-align: middle;\n",
       "    }\n",
       "\n",
       "    .dataframe tbody tr th {\n",
       "        vertical-align: top;\n",
       "    }\n",
       "\n",
       "    .dataframe thead th {\n",
       "        text-align: right;\n",
       "    }\n",
       "</style>\n",
       "<table border=\"1\" class=\"dataframe\">\n",
       "  <thead>\n",
       "    <tr style=\"text-align: right;\">\n",
       "      <th></th>\n",
       "      <th>city</th>\n",
       "      <th>trips_in_first_30_days</th>\n",
       "      <th>signup_date</th>\n",
       "      <th>avg_rating_of_driver</th>\n",
       "      <th>avg_surge</th>\n",
       "      <th>last_trip_date</th>\n",
       "      <th>phone</th>\n",
       "      <th>surge_pct</th>\n",
       "      <th>ultimate_black_user</th>\n",
       "      <th>weekday_pct</th>\n",
       "      <th>avg_dist</th>\n",
       "      <th>avg_rating_by_driver</th>\n",
       "    </tr>\n",
       "  </thead>\n",
       "  <tbody>\n",
       "    <tr>\n",
       "      <th>0</th>\n",
       "      <td>King's Landing</td>\n",
       "      <td>4</td>\n",
       "      <td>2014-01-25</td>\n",
       "      <td>4.7</td>\n",
       "      <td>1.10</td>\n",
       "      <td>2014-06-17</td>\n",
       "      <td>iPhone</td>\n",
       "      <td>15.4</td>\n",
       "      <td>True</td>\n",
       "      <td>46.2</td>\n",
       "      <td>3.67</td>\n",
       "      <td>5.0</td>\n",
       "    </tr>\n",
       "    <tr>\n",
       "      <th>1</th>\n",
       "      <td>Astapor</td>\n",
       "      <td>0</td>\n",
       "      <td>2014-01-29</td>\n",
       "      <td>5.0</td>\n",
       "      <td>1.00</td>\n",
       "      <td>2014-05-05</td>\n",
       "      <td>Android</td>\n",
       "      <td>0.0</td>\n",
       "      <td>False</td>\n",
       "      <td>50.0</td>\n",
       "      <td>8.26</td>\n",
       "      <td>5.0</td>\n",
       "    </tr>\n",
       "    <tr>\n",
       "      <th>2</th>\n",
       "      <td>Astapor</td>\n",
       "      <td>3</td>\n",
       "      <td>2014-01-06</td>\n",
       "      <td>4.3</td>\n",
       "      <td>1.00</td>\n",
       "      <td>2014-01-07</td>\n",
       "      <td>iPhone</td>\n",
       "      <td>0.0</td>\n",
       "      <td>False</td>\n",
       "      <td>100.0</td>\n",
       "      <td>0.77</td>\n",
       "      <td>5.0</td>\n",
       "    </tr>\n",
       "    <tr>\n",
       "      <th>3</th>\n",
       "      <td>King's Landing</td>\n",
       "      <td>9</td>\n",
       "      <td>2014-01-10</td>\n",
       "      <td>4.6</td>\n",
       "      <td>1.14</td>\n",
       "      <td>2014-06-29</td>\n",
       "      <td>iPhone</td>\n",
       "      <td>20.0</td>\n",
       "      <td>True</td>\n",
       "      <td>80.0</td>\n",
       "      <td>2.36</td>\n",
       "      <td>4.9</td>\n",
       "    </tr>\n",
       "    <tr>\n",
       "      <th>4</th>\n",
       "      <td>Winterfell</td>\n",
       "      <td>14</td>\n",
       "      <td>2014-01-27</td>\n",
       "      <td>4.4</td>\n",
       "      <td>1.19</td>\n",
       "      <td>2014-03-15</td>\n",
       "      <td>Android</td>\n",
       "      <td>11.8</td>\n",
       "      <td>False</td>\n",
       "      <td>82.4</td>\n",
       "      <td>3.13</td>\n",
       "      <td>4.9</td>\n",
       "    </tr>\n",
       "  </tbody>\n",
       "</table>\n",
       "</div>"
      ],
      "text/plain": [
       "             city  trips_in_first_30_days signup_date  avg_rating_of_driver  \\\n",
       "0  King's Landing                       4  2014-01-25                   4.7   \n",
       "1         Astapor                       0  2014-01-29                   5.0   \n",
       "2         Astapor                       3  2014-01-06                   4.3   \n",
       "3  King's Landing                       9  2014-01-10                   4.6   \n",
       "4      Winterfell                      14  2014-01-27                   4.4   \n",
       "\n",
       "   avg_surge last_trip_date    phone  surge_pct  ultimate_black_user  \\\n",
       "0       1.10     2014-06-17   iPhone       15.4                 True   \n",
       "1       1.00     2014-05-05  Android        0.0                False   \n",
       "2       1.00     2014-01-07   iPhone        0.0                False   \n",
       "3       1.14     2014-06-29   iPhone       20.0                 True   \n",
       "4       1.19     2014-03-15  Android       11.8                False   \n",
       "\n",
       "   weekday_pct  avg_dist  avg_rating_by_driver  \n",
       "0         46.2      3.67                   5.0  \n",
       "1         50.0      8.26                   5.0  \n",
       "2        100.0      0.77                   5.0  \n",
       "3         80.0      2.36                   4.9  \n",
       "4         82.4      3.13                   4.9  "
      ]
     },
     "execution_count": 3,
     "metadata": {},
     "output_type": "execute_result"
    }
   ],
   "source": [
    "df.head()"
   ]
  },
  {
   "cell_type": "code",
   "execution_count": 4,
   "id": "f00b85a2",
   "metadata": {
    "scrolled": true
   },
   "outputs": [
    {
     "name": "stdout",
     "output_type": "stream",
     "text": [
      "<class 'pandas.core.frame.DataFrame'>\n",
      "RangeIndex: 50000 entries, 0 to 49999\n",
      "Data columns (total 12 columns):\n",
      " #   Column                  Non-Null Count  Dtype  \n",
      "---  ------                  --------------  -----  \n",
      " 0   city                    50000 non-null  object \n",
      " 1   trips_in_first_30_days  50000 non-null  int64  \n",
      " 2   signup_date             50000 non-null  object \n",
      " 3   avg_rating_of_driver    41878 non-null  float64\n",
      " 4   avg_surge               50000 non-null  float64\n",
      " 5   last_trip_date          50000 non-null  object \n",
      " 6   phone                   49604 non-null  object \n",
      " 7   surge_pct               50000 non-null  float64\n",
      " 8   ultimate_black_user     50000 non-null  bool   \n",
      " 9   weekday_pct             50000 non-null  float64\n",
      " 10  avg_dist                50000 non-null  float64\n",
      " 11  avg_rating_by_driver    49799 non-null  float64\n",
      "dtypes: bool(1), float64(6), int64(1), object(4)\n",
      "memory usage: 4.2+ MB\n"
     ]
    }
   ],
   "source": [
    "df.info()"
   ]
  },
  {
   "cell_type": "markdown",
   "id": "5d091190",
   "metadata": {},
   "source": [
    "### Cleaning"
   ]
  },
  {
   "cell_type": "code",
   "execution_count": 5,
   "id": "58fa5c09",
   "metadata": {},
   "outputs": [
    {
     "data": {
      "text/plain": [
       "array([\"King's Landing\", 'Astapor', 'Winterfell'], dtype=object)"
      ]
     },
     "execution_count": 5,
     "metadata": {},
     "output_type": "execute_result"
    }
   ],
   "source": [
    "df['city'].unique()"
   ]
  },
  {
   "cell_type": "code",
   "execution_count": 6,
   "id": "21b61b5f",
   "metadata": {},
   "outputs": [],
   "source": [
    "# simple one hot encode the city names\n",
    "def rename(x):\n",
    "    if \"King's Landing\" in x:\n",
    "        return 1\n",
    "    elif 'Astapor' in x:\n",
    "        return 2\n",
    "    else:\n",
    "        return 3\n"
   ]
  },
  {
   "cell_type": "code",
   "execution_count": 7,
   "id": "726bbdb5",
   "metadata": {},
   "outputs": [],
   "source": [
    "# create new column for one hot labels\n",
    "\n",
    "df['hot_city'] = df['city'].apply(lambda x: rename(x))"
   ]
  },
  {
   "cell_type": "code",
   "execution_count": 8,
   "id": "cd6361f1",
   "metadata": {},
   "outputs": [
    {
     "data": {
      "text/plain": [
       "count    50000.000000\n",
       "mean         2.278200\n",
       "std          3.792684\n",
       "min          0.000000\n",
       "25%          0.000000\n",
       "50%          1.000000\n",
       "75%          3.000000\n",
       "max        125.000000\n",
       "Name: trips_in_first_30_days, dtype: float64"
      ]
     },
     "execution_count": 8,
     "metadata": {},
     "output_type": "execute_result"
    }
   ],
   "source": [
    "df['trips_in_first_30_days'].describe()"
   ]
  },
  {
   "cell_type": "code",
   "execution_count": 9,
   "id": "a26f5e90",
   "metadata": {},
   "outputs": [],
   "source": [
    "# turn dates into dates\n",
    "df['signup_date'] = pd.to_datetime(df['signup_date'])"
   ]
  },
  {
   "cell_type": "code",
   "execution_count": 10,
   "id": "47c1300a",
   "metadata": {},
   "outputs": [
    {
     "name": "stderr",
     "output_type": "stream",
     "text": [
      "/var/folders/70/gq6zfpsx5rg7k0vsvcbg70_40000gn/T/ipykernel_35075/3414994839.py:1: FutureWarning: Treating datetime data as categorical rather than numeric in `.describe` is deprecated and will be removed in a future version of pandas. Specify `datetime_is_numeric=True` to silence this warning and adopt the future behavior now.\n",
      "  df['signup_date'].describe()\n"
     ]
    },
    {
     "data": {
      "text/plain": [
       "count                   50000\n",
       "unique                     31\n",
       "top       2014-01-18 00:00:00\n",
       "freq                     2948\n",
       "first     2014-01-01 00:00:00\n",
       "last      2014-01-31 00:00:00\n",
       "Name: signup_date, dtype: object"
      ]
     },
     "execution_count": 10,
     "metadata": {},
     "output_type": "execute_result"
    }
   ],
   "source": [
    "df['signup_date'].describe()"
   ]
  },
  {
   "cell_type": "markdown",
   "id": "3e236193",
   "metadata": {},
   "source": [
    "<b> all dates are in January"
   ]
  },
  {
   "cell_type": "code",
   "execution_count": 11,
   "id": "dbc05cab",
   "metadata": {},
   "outputs": [
    {
     "data": {
      "text/plain": [
       "count    41878.000000\n",
       "mean         4.601559\n",
       "std          0.617338\n",
       "min          1.000000\n",
       "25%          4.300000\n",
       "50%          4.900000\n",
       "75%          5.000000\n",
       "max          5.000000\n",
       "Name: avg_rating_of_driver, dtype: float64"
      ]
     },
     "execution_count": 11,
     "metadata": {},
     "output_type": "execute_result"
    }
   ],
   "source": [
    "df['avg_rating_of_driver'].describe()"
   ]
  },
  {
   "cell_type": "code",
   "execution_count": 12,
   "id": "2cd13c0b",
   "metadata": {},
   "outputs": [
    {
     "data": {
      "text/plain": [
       "array([1.1 , 1.  , 1.14, 1.19, 1.38, 1.21, 1.17, 1.02, 1.05, 1.5 , 2.  ,\n",
       "       1.25, 1.04, 1.88, 1.33, 1.56, 1.06, 1.03, 1.09, 1.35, 3.5 , 1.11,\n",
       "       1.63, 2.5 , 1.32, 1.3 , 1.75, 2.25, 1.2 , 1.13, 1.08, 1.15, 4.  ,\n",
       "       1.12, 1.22, 1.29, 1.23, 1.01, 1.07, 1.18, 1.45, 2.75, 2.63, 1.46,\n",
       "       2.07, 1.27, 3.  , 1.36, 1.96, 1.42, 1.44, 1.54, 1.16, 1.31, 1.58,\n",
       "       1.92, 1.67, 1.26, 4.75, 1.41, 3.25, 1.24, 2.13, 1.6 , 1.57, 1.34,\n",
       "       1.52, 1.69, 5.  , 1.4 , 1.37, 1.7 , 1.78, 1.43, 1.94, 1.64, 1.83,\n",
       "       1.28, 1.85, 1.55, 1.48, 1.39, 2.88, 4.25, 1.47, 1.51, 1.9 , 1.68,\n",
       "       4.5 , 1.66, 2.33, 1.65, 1.71, 2.17, 2.38, 1.61, 2.08, 3.75, 8.  ,\n",
       "       1.77, 1.49, 2.42, 1.59, 1.8 , 2.19, 1.53, 1.81, 5.75, 1.79, 2.44,\n",
       "       2.67, 2.31, 2.1 , 2.2 , 3.63])"
      ]
     },
     "execution_count": 12,
     "metadata": {},
     "output_type": "execute_result"
    }
   ],
   "source": [
    "df['avg_surge'].unique()"
   ]
  },
  {
   "cell_type": "code",
   "execution_count": 13,
   "id": "2c6c8375",
   "metadata": {},
   "outputs": [],
   "source": [
    "# turn dates into dates\n",
    "df['last_trip_date'] = pd.to_datetime(df['last_trip_date'])"
   ]
  },
  {
   "cell_type": "code",
   "execution_count": 14,
   "id": "171e8920",
   "metadata": {},
   "outputs": [
    {
     "name": "stderr",
     "output_type": "stream",
     "text": [
      "/var/folders/70/gq6zfpsx5rg7k0vsvcbg70_40000gn/T/ipykernel_35075/632557333.py:1: FutureWarning: Treating datetime data as categorical rather than numeric in `.describe` is deprecated and will be removed in a future version of pandas. Specify `datetime_is_numeric=True` to silence this warning and adopt the future behavior now.\n",
      "  df['last_trip_date'].describe()\n"
     ]
    },
    {
     "data": {
      "text/plain": [
       "count                   50000\n",
       "unique                    182\n",
       "top       2014-06-29 00:00:00\n",
       "freq                     2036\n",
       "first     2014-01-01 00:00:00\n",
       "last      2014-07-01 00:00:00\n",
       "Name: last_trip_date, dtype: object"
      ]
     },
     "execution_count": 14,
     "metadata": {},
     "output_type": "execute_result"
    }
   ],
   "source": [
    "df['last_trip_date'].describe()"
   ]
  },
  {
   "cell_type": "code",
   "execution_count": 15,
   "id": "24941416",
   "metadata": {},
   "outputs": [
    {
     "data": {
      "text/plain": [
       "Timestamp('2014-07-01 00:00:00')"
      ]
     },
     "execution_count": 15,
     "metadata": {},
     "output_type": "execute_result"
    }
   ],
   "source": [
    "# retention is based on the past 30 days, the max date will count as today\n",
    "df['last_trip_date'].max()"
   ]
  },
  {
   "cell_type": "code",
   "execution_count": 16,
   "id": "9827d42c",
   "metadata": {},
   "outputs": [
    {
     "data": {
      "text/plain": [
       "count      49604\n",
       "unique         2\n",
       "top       iPhone\n",
       "freq       34582\n",
       "Name: phone, dtype: object"
      ]
     },
     "execution_count": 16,
     "metadata": {},
     "output_type": "execute_result"
    }
   ],
   "source": [
    "df['phone'].describe()"
   ]
  },
  {
   "cell_type": "code",
   "execution_count": 17,
   "id": "4e64c3bb",
   "metadata": {},
   "outputs": [],
   "source": [
    "# simple one hot encode the phone type\n",
    "def rename_phone(x):\n",
    "    if \"iPhone\" in x:\n",
    "        return 1\n",
    "    elif 'Android' in x:\n",
    "        return 2\n",
    "    else:\n",
    "        return 3"
   ]
  },
  {
   "cell_type": "code",
   "execution_count": 18,
   "id": "fb876b89",
   "metadata": {},
   "outputs": [],
   "source": [
    "# fill na\n",
    "df['phone'] = df['phone'].replace(np.nan,'missing')"
   ]
  },
  {
   "cell_type": "code",
   "execution_count": 19,
   "id": "77692514",
   "metadata": {},
   "outputs": [],
   "source": [
    "# new column for one hot phone\n",
    "df['hot_phone'] = df['phone'].apply(lambda x: rename_phone(x))"
   ]
  },
  {
   "cell_type": "code",
   "execution_count": 20,
   "id": "b979f69f",
   "metadata": {},
   "outputs": [
    {
     "data": {
      "text/plain": [
       "array([ 15.4,   0. ,  20. ,  11.8,  50. ,  30.8,  33.3,   9.1, 100. ,\n",
       "         5.8,  22.2,  25. ,   5.4,  10.5,  36. ,  18.2,   5.3,   1.9,\n",
       "        10. ,  16.7,  15.9,  11.1,   8.3,   2.3,   3.8,  21.4,  22.9,\n",
       "         3.5,  14.3,  66.7,   2.7,  26.1,   7.1,   7.7,   4.9,  12.5,\n",
       "        42.9,  17.6,  14.8,  27.3,  20.9,   1.7,  11.7,  13. ,   8.6,\n",
       "         3. ,   6.5,  40. ,  21.1,   8.1,  10.1,  15.8,   2.4,  36.6,\n",
       "        71.4,   3.7,   2. ,   5.7,  61.5,   4.3,  34.8,   3.6,  18.8,\n",
       "         7.5,   6.3,   6.7,  13.5,  19.7,   4.2,  57.1,  14. ,   4.5,\n",
       "        24.7,   0.9,   5. ,   3.3,  22.6,  12. ,   4.8,  15. ,  37.5,\n",
       "         5.9,   8.5,   6.8,   2.9,  23.8,  28.6,   1.6,  12.3,  10.3,\n",
       "        13.3,  27.1,  26.7,  13.6,  11.4,   8. ,  38.5,   2.6,  17.2,\n",
       "         3.2,  21.7,   9.5,  19.4,  13.8,  55.6,   8.8,   8.9,  16. ,\n",
       "        18. ,   7.9,   4. ,  23.1,  37.2,  11.6,  60. ,  18.5,  26.3,\n",
       "         5.6,  12.1,   4.4,  25.3,  10.4,  16.9,  45.1,   2.1,   1.8,\n",
       "        44.4,  12.9,  10.9,  24. ,   7.4,  27.8,  19. ,  17.9,  20.5,\n",
       "        11.5,  18.4,   6.1,  28.1,  29.2,  14.6,  23.9,  10.6,  20.6,\n",
       "        21. ,  19.5,  14.5,  46.2,  13.9,  31.3,  15.2,  16.1,  38.1,\n",
       "         0.8,   9. ,   5.1,  16.2,  12.2,  23.3,  36.4,  21.9,   9.8,\n",
       "         9.2,  30. ,  26.2,  10.7,  15.6,   7.3,   6. ,   2.2,  23.5,\n",
       "        35.3,  43.8,  19.2,   6.9,  31.4,  24.1,  11.3,   4.7,  14.7,\n",
       "        17.1,  24.4,  31.8,   8.2,  35.7,  31.6,  38.9,  21.6,  22.7,\n",
       "         8.7,   1.3,   2.5,  18.9,  10.8,  24.6,  19.6,   7.8,  26.5,\n",
       "         1.5,   5.5,  16.3,   3.1,   5.2,  45.5,   1. ,  10.2,   2.8,\n",
       "         7. ,  30.2,  23.4,  22.5,  24.2,  17.4,   9.7,   3.4,   9.4,\n",
       "        13.1,  32.4,  20.7,   4.1,   1.4,  25.6,  20.2,  83.3,  12.7,\n",
       "        29.4,   6.6,   0.7,  15.7,  64.7,  30.3,  12.8,  47.1,  17.8,\n",
       "        80. ,   9.6,   1.1,  26.4,  16.4,  32. ,  21.2,  20.8,  29.1,\n",
       "        29.6,   6.4,  75. ,  13.7,  36.8,  26.9,  22. ,  38.7,  16.8,\n",
       "        33.6,  29.7,  41.7,  27. ,   4.6,  25.5,  47.8,  18.6,  11.9,\n",
       "        22.1,  54.5,   9.3,   6.2,  19.8,  31.9,  53.3,  40.7,  53.8,\n",
       "        19.1,  14.1,  16.5,  12.6,  26.8,  45. ,  31.7,  20.4,   3.9,\n",
       "        34.7,  13.2,  15.5,  34.3,  13.4,  22.4,  34.6,  26. ,  28.2,\n",
       "        28. ,  52.9,  18.7,  31. ,  18.1,  45.2,  45.8,  15.3,  39. ,\n",
       "        24.3,  32.1,  14.4,  23.2,  25.4,  17.5,   0.6,  38.2,  21.5,\n",
       "        33.7,   8.4,  29.5,  17. ,  25.8,  22.8,  37.9,  23. ,  21.3,\n",
       "        41.2,  35.5,  27.7,   1.2,  35.1,  27.5,  35. ,   7.6,  34.1,\n",
       "        42.1,  48.1,  30.4,  27.6,  24.5,  14.9,   7.2,  42.4,   0.4,\n",
       "        30.6,  28.3,  37. ,  62.5,  17.3,  23.7,  28.9,  11. ,   0.5,\n",
       "        30.9,   9.9,  59.5,  36.1,  28.8,  27.9,  25.9,  58.3,  19.3,\n",
       "        32.3,  17.7,  59.1,  43.5,  23.6,  12.4,  29.3,  85.7,  29. ,\n",
       "        56.3,  18.3,  25.7,  55. ,  52.2,  63.6,  35.2])"
      ]
     },
     "execution_count": 20,
     "metadata": {},
     "output_type": "execute_result"
    }
   ],
   "source": [
    "df['surge_pct'].unique()"
   ]
  },
  {
   "cell_type": "code",
   "execution_count": 21,
   "id": "8b3121af",
   "metadata": {},
   "outputs": [
    {
     "data": {
      "text/plain": [
       "count     50000\n",
       "unique        2\n",
       "top       False\n",
       "freq      31146\n",
       "Name: ultimate_black_user, dtype: object"
      ]
     },
     "execution_count": 21,
     "metadata": {},
     "output_type": "execute_result"
    }
   ],
   "source": [
    "df['ultimate_black_user'].describe()"
   ]
  },
  {
   "cell_type": "code",
   "execution_count": 22,
   "id": "3c892c6e",
   "metadata": {},
   "outputs": [],
   "source": [
    "# convert the bool values into 1, 0 \n",
    "df['ultimate_black_user'] = df['ultimate_black_user'] * 1"
   ]
  },
  {
   "cell_type": "code",
   "execution_count": 23,
   "id": "f292e70e",
   "metadata": {},
   "outputs": [
    {
     "data": {
      "text/plain": [
       "count    50000.000000\n",
       "mean        60.926084\n",
       "std         37.081503\n",
       "min          0.000000\n",
       "25%         33.300000\n",
       "50%         66.700000\n",
       "75%        100.000000\n",
       "max        100.000000\n",
       "Name: weekday_pct, dtype: float64"
      ]
     },
     "execution_count": 23,
     "metadata": {},
     "output_type": "execute_result"
    }
   ],
   "source": [
    "df['weekday_pct'].describe()"
   ]
  },
  {
   "cell_type": "code",
   "execution_count": 24,
   "id": "cd68347c",
   "metadata": {},
   "outputs": [
    {
     "data": {
      "text/plain": [
       "count    50000.000000\n",
       "mean         5.796827\n",
       "std          5.707357\n",
       "min          0.000000\n",
       "25%          2.420000\n",
       "50%          3.880000\n",
       "75%          6.940000\n",
       "max        160.960000\n",
       "Name: avg_dist, dtype: float64"
      ]
     },
     "execution_count": 24,
     "metadata": {},
     "output_type": "execute_result"
    }
   ],
   "source": [
    "df['avg_dist'].describe()"
   ]
  },
  {
   "cell_type": "code",
   "execution_count": 25,
   "id": "29493eae",
   "metadata": {},
   "outputs": [
    {
     "data": {
      "text/plain": [
       "count    49799.000000\n",
       "mean         4.778158\n",
       "std          0.446652\n",
       "min          1.000000\n",
       "25%          4.700000\n",
       "50%          5.000000\n",
       "75%          5.000000\n",
       "max          5.000000\n",
       "Name: avg_rating_by_driver, dtype: float64"
      ]
     },
     "execution_count": 25,
     "metadata": {},
     "output_type": "execute_result"
    }
   ],
   "source": [
    "df['avg_rating_by_driver'].describe()"
   ]
  },
  {
   "cell_type": "markdown",
   "id": "1bcc00cc",
   "metadata": {},
   "source": [
    "### Nan's"
   ]
  },
  {
   "cell_type": "code",
   "execution_count": 26,
   "id": "799fd05f",
   "metadata": {},
   "outputs": [
    {
     "data": {
      "text/plain": [
       "city                         0\n",
       "trips_in_first_30_days       0\n",
       "signup_date                  0\n",
       "avg_rating_of_driver      8122\n",
       "avg_surge                    0\n",
       "last_trip_date               0\n",
       "phone                        0\n",
       "surge_pct                    0\n",
       "ultimate_black_user          0\n",
       "weekday_pct                  0\n",
       "avg_dist                     0\n",
       "avg_rating_by_driver       201\n",
       "hot_city                     0\n",
       "hot_phone                    0\n",
       "dtype: int64"
      ]
     },
     "execution_count": 26,
     "metadata": {},
     "output_type": "execute_result"
    }
   ],
   "source": [
    "df.isna().sum()"
   ]
  },
  {
   "cell_type": "code",
   "execution_count": 27,
   "id": "bd1f9c7e",
   "metadata": {},
   "outputs": [
    {
     "data": {
      "text/plain": [
       "4.6015592912744685"
      ]
     },
     "execution_count": 27,
     "metadata": {},
     "output_type": "execute_result"
    }
   ],
   "source": [
    "# rating OF driver\n",
    "df['avg_rating_of_driver'].mean()"
   ]
  },
  {
   "cell_type": "code",
   "execution_count": 28,
   "id": "dd64c909",
   "metadata": {},
   "outputs": [
    {
     "data": {
      "text/plain": [
       "4.9"
      ]
     },
     "execution_count": 28,
     "metadata": {},
     "output_type": "execute_result"
    }
   ],
   "source": [
    "np.nanpercentile(df['avg_rating_of_driver'], 50)"
   ]
  },
  {
   "cell_type": "code",
   "execution_count": 29,
   "id": "7374cff9",
   "metadata": {},
   "outputs": [],
   "source": [
    "# severely negative reviews are out weighing the majority\n",
    "# filling na with the 50th percentile which is 4.9 out of 5\n",
    "df['avg_rating_of_driver'] = df['avg_rating_of_driver'].fillna(4.9)"
   ]
  },
  {
   "cell_type": "code",
   "execution_count": 30,
   "id": "fd5d1847",
   "metadata": {},
   "outputs": [
    {
     "data": {
      "text/plain": [
       "4.778158195947439"
      ]
     },
     "execution_count": 30,
     "metadata": {},
     "output_type": "execute_result"
    }
   ],
   "source": [
    "# rating BY driver\n",
    "df['avg_rating_by_driver'].mean()"
   ]
  },
  {
   "cell_type": "code",
   "execution_count": 31,
   "id": "52773ea3",
   "metadata": {},
   "outputs": [
    {
     "data": {
      "text/plain": [
       "5.0"
      ]
     },
     "execution_count": 31,
     "metadata": {},
     "output_type": "execute_result"
    }
   ],
   "source": [
    "np.nanpercentile(df['avg_rating_by_driver'], 50)"
   ]
  },
  {
   "cell_type": "code",
   "execution_count": 32,
   "id": "1aa27b69",
   "metadata": {},
   "outputs": [],
   "source": [
    "# same method seems fair \n",
    "df['avg_rating_by_driver'] = df['avg_rating_by_driver'].fillna(5.0)"
   ]
  },
  {
   "cell_type": "markdown",
   "id": "0b3cbf73",
   "metadata": {},
   "source": [
    "### Define Retention and find % retained"
   ]
  },
  {
   "cell_type": "markdown",
   "id": "d59caaa1",
   "metadata": {},
   "source": [
    "\"we consider a user retained if they were “active” (i.e. took a trip) in the preceding 30 days.\"\""
   ]
  },
  {
   "cell_type": "code",
   "execution_count": 33,
   "id": "36e5c214",
   "metadata": {},
   "outputs": [],
   "source": [
    "# function to check if user used in last 30 days\n",
    "def retention(x):\n",
    "    today = df['last_trip_date'].max()\n",
    "    if (today - pd.Timedelta(days=30)) < x:\n",
    "        return 1\n",
    "    else:\n",
    "        return 0"
   ]
  },
  {
   "cell_type": "code",
   "execution_count": 34,
   "id": "00a627dc",
   "metadata": {},
   "outputs": [],
   "source": [
    "# create retention column\n",
    "df['active_user'] = df['last_trip_date'].apply(lambda x: retention(x))"
   ]
  },
  {
   "cell_type": "code",
   "execution_count": 35,
   "id": "a202330f",
   "metadata": {},
   "outputs": [
    {
     "data": {
      "text/plain": [
       "0.3662"
      ]
     },
     "execution_count": 35,
     "metadata": {},
     "output_type": "execute_result"
    }
   ],
   "source": [
    "# what percent of the january cohort are currently active?\n",
    "df['active_user'].sum() / df['active_user'].count()"
   ]
  },
  {
   "cell_type": "markdown",
   "id": "22bc71f9",
   "metadata": {},
   "source": [
    "### Part 3"
   ]
  },
  {
   "cell_type": "markdown",
   "id": "fe3084a3",
   "metadata": {},
   "source": [
    "# Modeling\n",
    "\n",
    "2. Build a predictive model to help Ultimate determine whether or not a user will be active in their 6th month on the system. \n",
    "Discuss why you chose your approach, what alternatives you considered, and any concerns you have. \n",
    "How valid is your model? Include any key indicators of model performance."
   ]
  },
  {
   "cell_type": "code",
   "execution_count": 36,
   "id": "dba260a0",
   "metadata": {},
   "outputs": [
    {
     "data": {
      "text/plain": [
       "Index(['city', 'trips_in_first_30_days', 'signup_date', 'avg_rating_of_driver',\n",
       "       'avg_surge', 'last_trip_date', 'phone', 'surge_pct',\n",
       "       'ultimate_black_user', 'weekday_pct', 'avg_dist',\n",
       "       'avg_rating_by_driver', 'hot_city', 'hot_phone', 'active_user'],\n",
       "      dtype='object')"
      ]
     },
     "execution_count": 36,
     "metadata": {},
     "output_type": "execute_result"
    }
   ],
   "source": [
    "df.columns"
   ]
  },
  {
   "cell_type": "code",
   "execution_count": 40,
   "id": "e50a4407",
   "metadata": {},
   "outputs": [],
   "source": [
    "# define dependent and indepent variables\n",
    "ultimate_y = df['active_user']\n",
    "ultimate_X = df.drop(columns=['active_user', 'city', 'phone', 'signup_date', 'last_trip_date'])"
   ]
  },
  {
   "cell_type": "code",
   "execution_count": 52,
   "id": "f30c8dbb",
   "metadata": {},
   "outputs": [
    {
     "data": {
      "text/plain": [
       "0    31690\n",
       "1    18310\n",
       "Name: active_user, dtype: int64"
      ]
     },
     "execution_count": 52,
     "metadata": {},
     "output_type": "execute_result"
    }
   ],
   "source": [
    "ultimate_y.value_counts()"
   ]
  },
  {
   "cell_type": "code",
   "execution_count": 50,
   "id": "836d6bb8",
   "metadata": {},
   "outputs": [],
   "source": [
    "# create test/ train data sets\n",
    "X_train, X_test, y_train, y_test = train_test_split(ultimate_X, ultimate_y, test_size=0.2, random_state=9)"
   ]
  },
  {
   "cell_type": "code",
   "execution_count": 106,
   "id": "f8f70070",
   "metadata": {},
   "outputs": [
    {
     "data": {
      "text/plain": [
       "0.997225"
      ]
     },
     "execution_count": 106,
     "metadata": {},
     "output_type": "execute_result"
    }
   ],
   "source": [
    "# random forest classifier with stock settings\n",
    "\n",
    "RFC = RandomForestClassifier(n_estimators=1000, warm_start=True, criterion='entropy')\n",
    "RFC_model = RFC.fit(X_train, y_train)\n",
    "RFC_pred = RFC_model.predict(X_test)\n",
    "RFC_model.score(X_train, y_train)"
   ]
  },
  {
   "cell_type": "code",
   "execution_count": 107,
   "id": "7db8dd95",
   "metadata": {},
   "outputs": [
    {
     "data": {
      "text/plain": [
       "0.7649"
      ]
     },
     "execution_count": 107,
     "metadata": {},
     "output_type": "execute_result"
    }
   ],
   "source": [
    "accuracy_score(y_test, RFC_pred)"
   ]
  },
  {
   "cell_type": "code",
   "execution_count": 98,
   "id": "79e6dc4a",
   "metadata": {},
   "outputs": [
    {
     "data": {
      "text/plain": [
       "array([[5173, 1171],\n",
       "       [1174, 2482]])"
      ]
     },
     "execution_count": 98,
     "metadata": {},
     "output_type": "execute_result"
    }
   ],
   "source": [
    "confusion_matrix(y_test, RFC_pred)"
   ]
  },
  {
   "cell_type": "code",
   "execution_count": 99,
   "id": "5a7820e3",
   "metadata": {},
   "outputs": [
    {
     "name": "stdout",
     "output_type": "stream",
     "text": [
      "              precision    recall  f1-score   support\n",
      "\n",
      "           0       0.82      0.82      0.82      6344\n",
      "           1       0.68      0.68      0.68      3656\n",
      "\n",
      "    accuracy                           0.77     10000\n",
      "   macro avg       0.75      0.75      0.75     10000\n",
      "weighted avg       0.77      0.77      0.77     10000\n",
      "\n"
     ]
    }
   ],
   "source": [
    "print(classification_report(y_test, RFC_pred))"
   ]
  },
  {
   "cell_type": "code",
   "execution_count": 47,
   "id": "bb01ec67",
   "metadata": {},
   "outputs": [
    {
     "data": {
      "image/png": "[encoded data removed]",
      "text/plain": [
       "<Figure size 432x288 with 1 Axes>"
      ]
     },
     "metadata": {
      "needs_background": "light"
     },
     "output_type": "display_data"
    }
   ],
   "source": [
    "# models .feature_importance_\n",
    "\n",
    "y = RFC_model.feature_importances_\n",
    "\n",
    "fig, ax = plt.subplots() \n",
    "width = 0.6 # the width of the bars \n",
    "ind = np.arange(len(y)) # the x locations for the groups\n",
    "\n",
    "ax.barh(ind, y, width, color=\"green\")\n",
    "ax.set_yticks(ind+width/5)\n",
    "\n",
    "ax.set_yticklabels(ultimate_X, minor=False, fontsize=10)\n",
    "plt.title('Feature importance in RandomForest Classifier')\n",
    "plt.xlabel('Relative importance')\n",
    "plt.ylabel('Features') \n",
    "plt.show()\n",
    "\n"
   ]
  },
  {
   "cell_type": "code",
   "execution_count": 73,
   "id": "84ff36ff",
   "metadata": {},
   "outputs": [],
   "source": [
    "# support vector machine\n",
    "# polynomial\n",
    "\n",
    "svm_model = svm.SVC(kernel='poly', degree=2)\n",
    "svm_model_fit = svm_model.fit(X_train, y_train)\n",
    "svm_pred_poly = svm_model_fit.predict(X_test)\n",
    "\n",
    "# linear\n",
    "svm_model_line = svm.SVC(kernel='linear')\n",
    "svm_model_line_fit = svm_model_line.fit(X_train, y_train)\n",
    "svm_pred_line = svm_model_line_fit.predict(X_test)"
   ]
  },
  {
   "cell_type": "code",
   "execution_count": 74,
   "id": "dc645ca2",
   "metadata": {},
   "outputs": [
    {
     "data": {
      "text/plain": [
       "0.7148"
      ]
     },
     "execution_count": 74,
     "metadata": {},
     "output_type": "execute_result"
    }
   ],
   "source": [
    "accuracy_score(y_test, svm_pred_poly)"
   ]
  },
  {
   "cell_type": "code",
   "execution_count": 75,
   "id": "d21c98df",
   "metadata": {},
   "outputs": [
    {
     "data": {
      "text/plain": [
       "0.7088"
      ]
     },
     "execution_count": 75,
     "metadata": {},
     "output_type": "execute_result"
    }
   ],
   "source": [
    "accuracy_score(y_test, svm_pred_line)"
   ]
  },
  {
   "cell_type": "code",
   "execution_count": 76,
   "id": "05a567ca",
   "metadata": {},
   "outputs": [
    {
     "data": {
      "text/plain": [
       "array([[5618,  726],\n",
       "       [2126, 1530]])"
      ]
     },
     "execution_count": 76,
     "metadata": {},
     "output_type": "execute_result"
    }
   ],
   "source": [
    "confusion_matrix(y_test, svm_pred_poly)"
   ]
  },
  {
   "cell_type": "code",
   "execution_count": 77,
   "id": "77f0968a",
   "metadata": {},
   "outputs": [
    {
     "data": {
      "text/plain": [
       "array([[5746,  598],\n",
       "       [2314, 1342]])"
      ]
     },
     "execution_count": 77,
     "metadata": {},
     "output_type": "execute_result"
    }
   ],
   "source": [
    "confusion_matrix(y_test, svm_pred_line)"
   ]
  },
  {
   "cell_type": "code",
   "execution_count": 78,
   "id": "6f932fe5",
   "metadata": {},
   "outputs": [
    {
     "name": "stdout",
     "output_type": "stream",
     "text": [
      "              precision    recall  f1-score   support\n",
      "\n",
      "           0       0.73      0.89      0.80      6344\n",
      "           1       0.68      0.42      0.52      3656\n",
      "\n",
      "    accuracy                           0.71     10000\n",
      "   macro avg       0.70      0.65      0.66     10000\n",
      "weighted avg       0.71      0.71      0.70     10000\n",
      "\n"
     ]
    }
   ],
   "source": [
    "print(classification_report(y_test, svm_pred_poly))"
   ]
  },
  {
   "cell_type": "code",
   "execution_count": 79,
   "id": "7aed4034",
   "metadata": {},
   "outputs": [
    {
     "name": "stdout",
     "output_type": "stream",
     "text": [
      "              precision    recall  f1-score   support\n",
      "\n",
      "           0       0.71      0.91      0.80      6344\n",
      "           1       0.69      0.37      0.48      3656\n",
      "\n",
      "    accuracy                           0.71     10000\n",
      "   macro avg       0.70      0.64      0.64     10000\n",
      "weighted avg       0.71      0.71      0.68     10000\n",
      "\n"
     ]
    }
   ],
   "source": [
    "print(classification_report(y_test, svm_pred_line))"
   ]
  },
  {
   "cell_type": "markdown",
   "id": "9f4ac771",
   "metadata": {},
   "source": [
    "### Conclusion"
   ]
  },
  {
   "cell_type": "markdown",
   "id": "3af74c45",
   "metadata": {},
   "source": [
    "I ran both SVM at the same time, but SVM was not as good as Random Forest. This is because SVM was not actually very good at predicting active users. It seems like SVM is taking short cuts and just picking not-active as a means to increase accuracy.\n",
    "\n",
    "Random Forest Classifier wins."
   ]
  },
  {
   "cell_type": "markdown",
   "id": "10de0541",
   "metadata": {},
   "source": [
    "### from above"
   ]
  },
  {
   "cell_type": "code",
   "execution_count": 100,
   "id": "3688dbbd",
   "metadata": {},
   "outputs": [
    {
     "name": "stdout",
     "output_type": "stream",
     "text": [
      "accuracy:  0.7655  confusion matrix  [[5173 1171]\n",
      " [1174 2482]]\n"
     ]
    }
   ],
   "source": [
    "print('accuracy: ',accuracy_score(y_test, RFC_pred),' confusion matrix ',confusion_matrix(y_test, RFC_pred))"
   ]
  },
  {
   "cell_type": "code",
   "execution_count": 101,
   "id": "5ec274f2",
   "metadata": {},
   "outputs": [
    {
     "name": "stdout",
     "output_type": "stream",
     "text": [
      "              precision    recall  f1-score   support\n",
      "\n",
      "           0       0.82      0.82      0.82      6344\n",
      "           1       0.68      0.68      0.68      3656\n",
      "\n",
      "    accuracy                           0.77     10000\n",
      "   macro avg       0.75      0.75      0.75     10000\n",
      "weighted avg       0.77      0.77      0.77     10000\n",
      "\n"
     ]
    }
   ],
   "source": [
    "print(classification_report(y_test, RFC_pred))"
   ]
  },
  {
   "cell_type": "markdown",
   "id": "6018257d",
   "metadata": {},
   "source": [
    "I chose the parameters for random forest based on what the desired outcome was. Only a few of the hyperparameters made a positive impact on results.  \n",
    "\n",
    "Changing the criterion to entropy improved accuracy by about half a percent. Increasing the number of trees also improved accuracy. 100 trees was .761 1000 trees was .77 and 10000 trees was only .763. Thankfully 10000 tress was not better because the run time was very long.\n",
    "\n",
    "Using warm_start allowed for learning from previous trees and improved accuracy by .005\n",
    "\n",
    "A concern I have is that both models were better at selecting non-active users.  I also am not sure what would qualify as a great predictive number. Obviously 100% accuracy, precision, recall would be amazing but 0.68 is decently above 50/50.\n",
    "\n",
    "I also keep referring to accuracy because the classification report is consistent. The random forest model does not appear to be cheating and selecting 0 because 0 occurs more."
   ]
  },
  {
   "cell_type": "markdown",
   "id": "3d8dbd77",
   "metadata": {},
   "source": [
    "## 3.\n",
    "\n",
    "Insights Ultimate could use include: Most import features are avg distance traveled, rating by driver, and weekday pct.\n",
    "\n",
    "This model could be used to help determine an estimate of service use and whether or not to advertise or hire drivers to fill a need.\n",
    "\n",
    "Even though there are still some black box answers in there, meaning exactly what about these three criterias the model liked is unclear. Weekday riders, and avg trip distance  data could be fabricated and run through the same model to determine how the model treats these values as predictive factors.  \n",
    "\n",
    "My guess is that longer trips people are less likely to walk and weekday riders use this to get to work sometimes and probably will continue to use this service as long as they have that specific job.\n",
    "\n"
   ]
  }
 ],
 "metadata": {
  "kernelspec": {
   "display_name": "Python 3 (ipykernel)",
   "language": "python",
   "name": "python3"
  },
  "language_info": {
   "codemirror_mode": {
    "name": "ipython",
    "version": 3
   },
   "file_extension": ".py",
   "mimetype": "text/x-python",
   "name": "python",
   "nbconvert_exporter": "python",
   "pygments_lexer": "ipython3",
   "version": "3.8.12"
  }
 },
 "nbformat": 4,
 "nbformat_minor": 5
}
