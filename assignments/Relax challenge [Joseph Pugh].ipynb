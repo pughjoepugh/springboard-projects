{
 "cells": [
  {
   "cell_type": "markdown",
   "id": "ebbe4d07",
   "metadata": {},
   "source": [
    "# Relax Challenge"
   ]
  },
  {
   "cell_type": "markdown",
   "id": "2f487a84",
   "metadata": {},
   "source": [
    "The data is available as two attached CSV files:\n",
    " \n",
    "takehome_user_engagement.csv\n",
    "takehome_users.csv\n",
    "\n",
    "\n",
    "The data has the following two tables:\n",
    "\n",
    "1] A user table (\"takehome_users\") with data on 12,000 users who signed up for the product in the last two years. This table includes:\n",
    "\n",
    "    ● name: the user's name\n",
    "\n",
    "    ● object_id: the user's id\n",
    "\n",
    "    ● email: email address\n",
    "\n",
    "    ● creation_source: how their account was created. This takes on one\n",
    "    of 5 values:\n",
    "\n",
    "        ○ PERSONAL_PROJECTS: invited to join another user's personal workspace\n",
    "\n",
    "        ○ GUEST_INVITE: invited to an organization as a guest (limited permissions)\n",
    "\n",
    "        ○ ORG_INVITE: invited to an organization (as a full member)\n",
    "\n",
    "        ○ SIGNUP: signed up via the website\n",
    "\n",
    "        ○ SIGNUP_GOOGLE_AUTH: signed up using Google\n",
    "\n",
    "        Authentication (using a Google email account for their login\n",
    "        id)\n",
    "\n",
    "    ● creation_time: when they created their account\n",
    "\n",
    "    ● last_session_creation_time: unix timestamp of last login\n",
    "\n",
    "    ● opted_in_to_mailing_list: whether they have opted into receiving\n",
    "    marketing emails\n",
    "\n",
    "    ● enabled_for_marketing_drip: whether they are on the regular\n",
    "    marketing email drip\n",
    "\n",
    "    ● org_id: the organization (group of users) they belong to\n",
    "\n",
    "    ● invited_by_user_id: which user invited them to join (if applicable).\n",
    "\n",
    "\n",
    "2] A usage summary table (\"takehome_user_engagement\") that has a row for each day that a user logged into the product.\n",
    "\n",
    "Defining an \"adopted user\" as a user who has logged into the product on three separate days in at least one seven­day period, identify which factors predict future user adoption.\n",
    " \n",
    "We suggest spending 1-2 hours on this, but you're welcome to spend more or less. \n",
    "\n",
    "Please send us a brief writeup of your findings (the more concise, the better ­­ no more than one page), along with any summary tables, graphs, code, or queries that can help us understand your approach.\n",
    "\n",
    "Please note any factors you considered or investigation you did, even if they did not pan out. Feel free to identify any further research or data you think would be valuable.\n"
   ]
  },
  {
   "cell_type": "markdown",
   "id": "45ce1710",
   "metadata": {},
   "source": [
    "### Create a model to predict user adoption:\n",
    "\n",
    "- An adopted user is being defined as having logged in 3 times during any seven day period\n",
    "- identify which factors predict future user adoption\n",
    "- write up findings\n",
    "- were there any factors that I considered but did not explore?"
   ]
  },
  {
   "cell_type": "code",
   "execution_count": 1,
   "id": "9fd067fd",
   "metadata": {},
   "outputs": [],
   "source": [
    "# libraries\n",
    "import pandas as pd\n",
    "import numpy as np\n",
    "from datetime import datetime"
   ]
  },
  {
   "cell_type": "code",
   "execution_count": 2,
   "id": "6ff53617",
   "metadata": {},
   "outputs": [],
   "source": [
    "# load data tables\n",
    "engagement = pd.read_csv('takehome_user_engagement.csv')\n",
    "users = pd.read_csv('takehome_users.csv', encoding = 'latin-1')"
   ]
  },
  {
   "cell_type": "code",
   "execution_count": 3,
   "id": "e60c024e",
   "metadata": {},
   "outputs": [
    {
     "data": {
      "text/html": [
       "<div>\n",
       "<style scoped>\n",
       "    .dataframe tbody tr th:only-of-type {\n",
       "        vertical-align: middle;\n",
       "    }\n",
       "\n",
       "    .dataframe tbody tr th {\n",
       "        vertical-align: top;\n",
       "    }\n",
       "\n",
       "    .dataframe thead th {\n",
       "        text-align: right;\n",
       "    }\n",
       "</style>\n",
       "<table border=\"1\" class=\"dataframe\">\n",
       "  <thead>\n",
       "    <tr style=\"text-align: right;\">\n",
       "      <th></th>\n",
       "      <th>object_id</th>\n",
       "      <th>creation_time</th>\n",
       "      <th>name</th>\n",
       "      <th>email</th>\n",
       "      <th>creation_source</th>\n",
       "      <th>last_session_creation_time</th>\n",
       "      <th>opted_in_to_mailing_list</th>\n",
       "      <th>enabled_for_marketing_drip</th>\n",
       "      <th>org_id</th>\n",
       "      <th>invited_by_user_id</th>\n",
       "    </tr>\n",
       "  </thead>\n",
       "  <tbody>\n",
       "    <tr>\n",
       "      <th>0</th>\n",
       "      <td>1</td>\n",
       "      <td>2014-04-22 03:53:30</td>\n",
       "      <td>Clausen August</td>\n",
       "      <td>AugustCClausen@yahoo.com</td>\n",
       "      <td>GUEST_INVITE</td>\n",
       "      <td>1.398139e+09</td>\n",
       "      <td>1</td>\n",
       "      <td>0</td>\n",
       "      <td>11</td>\n",
       "      <td>10803.0</td>\n",
       "    </tr>\n",
       "    <tr>\n",
       "      <th>1</th>\n",
       "      <td>2</td>\n",
       "      <td>2013-11-15 03:45:04</td>\n",
       "      <td>Poole Matthew</td>\n",
       "      <td>MatthewPoole@gustr.com</td>\n",
       "      <td>ORG_INVITE</td>\n",
       "      <td>1.396238e+09</td>\n",
       "      <td>0</td>\n",
       "      <td>0</td>\n",
       "      <td>1</td>\n",
       "      <td>316.0</td>\n",
       "    </tr>\n",
       "    <tr>\n",
       "      <th>2</th>\n",
       "      <td>3</td>\n",
       "      <td>2013-03-19 23:14:52</td>\n",
       "      <td>Bottrill Mitchell</td>\n",
       "      <td>MitchellBottrill@gustr.com</td>\n",
       "      <td>ORG_INVITE</td>\n",
       "      <td>1.363735e+09</td>\n",
       "      <td>0</td>\n",
       "      <td>0</td>\n",
       "      <td>94</td>\n",
       "      <td>1525.0</td>\n",
       "    </tr>\n",
       "    <tr>\n",
       "      <th>3</th>\n",
       "      <td>4</td>\n",
       "      <td>2013-05-21 08:09:28</td>\n",
       "      <td>Clausen Nicklas</td>\n",
       "      <td>NicklasSClausen@yahoo.com</td>\n",
       "      <td>GUEST_INVITE</td>\n",
       "      <td>1.369210e+09</td>\n",
       "      <td>0</td>\n",
       "      <td>0</td>\n",
       "      <td>1</td>\n",
       "      <td>5151.0</td>\n",
       "    </tr>\n",
       "    <tr>\n",
       "      <th>4</th>\n",
       "      <td>5</td>\n",
       "      <td>2013-01-17 10:14:20</td>\n",
       "      <td>Raw Grace</td>\n",
       "      <td>GraceRaw@yahoo.com</td>\n",
       "      <td>GUEST_INVITE</td>\n",
       "      <td>1.358850e+09</td>\n",
       "      <td>0</td>\n",
       "      <td>0</td>\n",
       "      <td>193</td>\n",
       "      <td>5240.0</td>\n",
       "    </tr>\n",
       "  </tbody>\n",
       "</table>\n",
       "</div>"
      ],
      "text/plain": [
       "   object_id        creation_time               name  \\\n",
       "0          1  2014-04-22 03:53:30     Clausen August   \n",
       "1          2  2013-11-15 03:45:04      Poole Matthew   \n",
       "2          3  2013-03-19 23:14:52  Bottrill Mitchell   \n",
       "3          4  2013-05-21 08:09:28    Clausen Nicklas   \n",
       "4          5  2013-01-17 10:14:20          Raw Grace   \n",
       "\n",
       "                        email creation_source  last_session_creation_time  \\\n",
       "0    AugustCClausen@yahoo.com    GUEST_INVITE                1.398139e+09   \n",
       "1      MatthewPoole@gustr.com      ORG_INVITE                1.396238e+09   \n",
       "2  MitchellBottrill@gustr.com      ORG_INVITE                1.363735e+09   \n",
       "3   NicklasSClausen@yahoo.com    GUEST_INVITE                1.369210e+09   \n",
       "4          GraceRaw@yahoo.com    GUEST_INVITE                1.358850e+09   \n",
       "\n",
       "   opted_in_to_mailing_list  enabled_for_marketing_drip  org_id  \\\n",
       "0                         1                           0      11   \n",
       "1                         0                           0       1   \n",
       "2                         0                           0      94   \n",
       "3                         0                           0       1   \n",
       "4                         0                           0     193   \n",
       "\n",
       "   invited_by_user_id  \n",
       "0             10803.0  \n",
       "1               316.0  \n",
       "2              1525.0  \n",
       "3              5151.0  \n",
       "4              5240.0  "
      ]
     },
     "execution_count": 3,
     "metadata": {},
     "output_type": "execute_result"
    }
   ],
   "source": [
    "users.head()"
   ]
  },
  {
   "cell_type": "code",
   "execution_count": 4,
   "id": "686359f4",
   "metadata": {},
   "outputs": [
    {
     "data": {
      "text/html": [
       "<div>\n",
       "<style scoped>\n",
       "    .dataframe tbody tr th:only-of-type {\n",
       "        vertical-align: middle;\n",
       "    }\n",
       "\n",
       "    .dataframe tbody tr th {\n",
       "        vertical-align: top;\n",
       "    }\n",
       "\n",
       "    .dataframe thead th {\n",
       "        text-align: right;\n",
       "    }\n",
       "</style>\n",
       "<table border=\"1\" class=\"dataframe\">\n",
       "  <thead>\n",
       "    <tr style=\"text-align: right;\">\n",
       "      <th></th>\n",
       "      <th>time_stamp</th>\n",
       "      <th>user_id</th>\n",
       "      <th>visited</th>\n",
       "    </tr>\n",
       "  </thead>\n",
       "  <tbody>\n",
       "    <tr>\n",
       "      <th>0</th>\n",
       "      <td>2014-04-22 03:53:30</td>\n",
       "      <td>1</td>\n",
       "      <td>1</td>\n",
       "    </tr>\n",
       "    <tr>\n",
       "      <th>1</th>\n",
       "      <td>2013-11-15 03:45:04</td>\n",
       "      <td>2</td>\n",
       "      <td>1</td>\n",
       "    </tr>\n",
       "    <tr>\n",
       "      <th>2</th>\n",
       "      <td>2013-11-29 03:45:04</td>\n",
       "      <td>2</td>\n",
       "      <td>1</td>\n",
       "    </tr>\n",
       "    <tr>\n",
       "      <th>3</th>\n",
       "      <td>2013-12-09 03:45:04</td>\n",
       "      <td>2</td>\n",
       "      <td>1</td>\n",
       "    </tr>\n",
       "    <tr>\n",
       "      <th>4</th>\n",
       "      <td>2013-12-25 03:45:04</td>\n",
       "      <td>2</td>\n",
       "      <td>1</td>\n",
       "    </tr>\n",
       "  </tbody>\n",
       "</table>\n",
       "</div>"
      ],
      "text/plain": [
       "            time_stamp  user_id  visited\n",
       "0  2014-04-22 03:53:30        1        1\n",
       "1  2013-11-15 03:45:04        2        1\n",
       "2  2013-11-29 03:45:04        2        1\n",
       "3  2013-12-09 03:45:04        2        1\n",
       "4  2013-12-25 03:45:04        2        1"
      ]
     },
     "execution_count": 4,
     "metadata": {},
     "output_type": "execute_result"
    }
   ],
   "source": [
    "engagement.head()"
   ]
  },
  {
   "cell_type": "markdown",
   "id": "b0f2e003",
   "metadata": {},
   "source": [
    "### USERS"
   ]
  },
  {
   "cell_type": "code",
   "execution_count": 5,
   "id": "f249ed4f",
   "metadata": {},
   "outputs": [],
   "source": [
    "# rename object_id to user_id\n",
    "users = users.rename(columns={'object_id': 'user_id','last_session_creation_time':'last_session_creation_time_unix'})"
   ]
  },
  {
   "cell_type": "code",
   "execution_count": 6,
   "id": "9aa04a11",
   "metadata": {},
   "outputs": [
    {
     "name": "stdout",
     "output_type": "stream",
     "text": [
      "<class 'pandas.core.frame.DataFrame'>\n",
      "RangeIndex: 12000 entries, 0 to 11999\n",
      "Data columns (total 10 columns):\n",
      " #   Column                           Non-Null Count  Dtype  \n",
      "---  ------                           --------------  -----  \n",
      " 0   user_id                          12000 non-null  int64  \n",
      " 1   creation_time                    12000 non-null  object \n",
      " 2   name                             12000 non-null  object \n",
      " 3   email                            12000 non-null  object \n",
      " 4   creation_source                  12000 non-null  object \n",
      " 5   last_session_creation_time_unix  8823 non-null   float64\n",
      " 6   opted_in_to_mailing_list         12000 non-null  int64  \n",
      " 7   enabled_for_marketing_drip       12000 non-null  int64  \n",
      " 8   org_id                           12000 non-null  int64  \n",
      " 9   invited_by_user_id               6417 non-null   float64\n",
      "dtypes: float64(2), int64(4), object(4)\n",
      "memory usage: 937.6+ KB\n"
     ]
    }
   ],
   "source": [
    "users.info()"
   ]
  },
  {
   "cell_type": "code",
   "execution_count": 7,
   "id": "6dbed77c",
   "metadata": {},
   "outputs": [
    {
     "name": "stderr",
     "output_type": "stream",
     "text": [
      "/var/folders/70/gq6zfpsx5rg7k0vsvcbg70_40000gn/T/ipykernel_42288/3221648097.py:2: UserWarning: Pandas doesn't allow columns to be created via a new attribute name - see https://pandas.pydata.org/pandas-docs/stable/indexing.html#attribute-access\n",
      "  users.real_time_last_session = pd.to_datetime(users.last_session_creation_time_unix, unit='s')\n"
     ]
    }
   ],
   "source": [
    "# new column for human readable timestamps\n",
    "users.real_time_last_session = pd.to_datetime(users.last_session_creation_time_unix, unit='s')"
   ]
  },
  {
   "cell_type": "code",
   "execution_count": 8,
   "id": "f045b114",
   "metadata": {},
   "outputs": [
    {
     "data": {
      "text/plain": [
       "12000"
      ]
     },
     "execution_count": 8,
     "metadata": {},
     "output_type": "execute_result"
    }
   ],
   "source": [
    "users.user_id.nunique()"
   ]
  },
  {
   "cell_type": "code",
   "execution_count": 9,
   "id": "8fafb987",
   "metadata": {},
   "outputs": [
    {
     "data": {
      "text/plain": [
       "11980"
      ]
     },
     "execution_count": 9,
     "metadata": {},
     "output_type": "execute_result"
    }
   ],
   "source": [
    "users.email.nunique()"
   ]
  },
  {
   "cell_type": "code",
   "execution_count": 10,
   "id": "08f01871",
   "metadata": {},
   "outputs": [
    {
     "data": {
      "text/html": [
       "<div>\n",
       "<style scoped>\n",
       "    .dataframe tbody tr th:only-of-type {\n",
       "        vertical-align: middle;\n",
       "    }\n",
       "\n",
       "    .dataframe tbody tr th {\n",
       "        vertical-align: top;\n",
       "    }\n",
       "\n",
       "    .dataframe thead th {\n",
       "        text-align: right;\n",
       "    }\n",
       "</style>\n",
       "<table border=\"1\" class=\"dataframe\">\n",
       "  <thead>\n",
       "    <tr style=\"text-align: right;\">\n",
       "      <th></th>\n",
       "      <th>email</th>\n",
       "      <th>count</th>\n",
       "    </tr>\n",
       "  </thead>\n",
       "  <tbody>\n",
       "    <tr>\n",
       "      <th>9993</th>\n",
       "      <td>ThomasBrandt@gmail.com</td>\n",
       "      <td>2</td>\n",
       "    </tr>\n",
       "    <tr>\n",
       "      <th>10177</th>\n",
       "      <td>TomSchiffer@gmail.com</td>\n",
       "      <td>2</td>\n",
       "    </tr>\n",
       "    <tr>\n",
       "      <th>5572</th>\n",
       "      <td>KerstinNeudorf@gmail.com</td>\n",
       "      <td>2</td>\n",
       "    </tr>\n",
       "    <tr>\n",
       "      <th>10321</th>\n",
       "      <td>UlrikeGerste@gmail.com</td>\n",
       "      <td>2</td>\n",
       "    </tr>\n",
       "    <tr>\n",
       "      <th>6765</th>\n",
       "      <td>MandySchroder@gustr.com</td>\n",
       "      <td>2</td>\n",
       "    </tr>\n",
       "    <tr>\n",
       "      <th>6083</th>\n",
       "      <td>LeonieDuerr@gmail.com</td>\n",
       "      <td>2</td>\n",
       "    </tr>\n",
       "    <tr>\n",
       "      <th>7081</th>\n",
       "      <td>MarkoSeiler@yahoo.com</td>\n",
       "      <td>2</td>\n",
       "    </tr>\n",
       "    <tr>\n",
       "      <th>4450</th>\n",
       "      <td>JaninaSankt@gmail.com</td>\n",
       "      <td>2</td>\n",
       "    </tr>\n",
       "    <tr>\n",
       "      <th>5672</th>\n",
       "      <td>KlausMueller@gustr.com</td>\n",
       "      <td>2</td>\n",
       "    </tr>\n",
       "    <tr>\n",
       "      <th>5811</th>\n",
       "      <td>LasseLNrgaard@gmail.com</td>\n",
       "      <td>2</td>\n",
       "    </tr>\n",
       "    <tr>\n",
       "      <th>4285</th>\n",
       "      <td>JacobTye@gmail.com</td>\n",
       "      <td>2</td>\n",
       "    </tr>\n",
       "    <tr>\n",
       "      <th>470</th>\n",
       "      <td>AmandaABach@gmail.com</td>\n",
       "      <td>2</td>\n",
       "    </tr>\n",
       "    <tr>\n",
       "      <th>330</th>\n",
       "      <td>AlfieLane@yahoo.com</td>\n",
       "      <td>2</td>\n",
       "    </tr>\n",
       "    <tr>\n",
       "      <th>7980</th>\n",
       "      <td>NicolaiSHolm@yahoo.com</td>\n",
       "      <td>2</td>\n",
       "    </tr>\n",
       "    <tr>\n",
       "      <th>8270</th>\n",
       "      <td>PaigeWyatt@gmail.com</td>\n",
       "      <td>2</td>\n",
       "    </tr>\n",
       "    <tr>\n",
       "      <th>7351</th>\n",
       "      <td>MaximilianWalter@gmail.com</td>\n",
       "      <td>2</td>\n",
       "    </tr>\n",
       "    <tr>\n",
       "      <th>5751</th>\n",
       "      <td>LaerkeMBertelsen@gmail.com</td>\n",
       "      <td>2</td>\n",
       "    </tr>\n",
       "    <tr>\n",
       "      <th>5706</th>\n",
       "      <td>KristinKappel@yahoo.com</td>\n",
       "      <td>2</td>\n",
       "    </tr>\n",
       "    <tr>\n",
       "      <th>6691</th>\n",
       "      <td>MagnusSWinther@jourrapide.com</td>\n",
       "      <td>2</td>\n",
       "    </tr>\n",
       "    <tr>\n",
       "      <th>7663</th>\n",
       "      <td>MimirMKarlsen@jourrapide.com</td>\n",
       "      <td>2</td>\n",
       "    </tr>\n",
       "    <tr>\n",
       "      <th>7987</th>\n",
       "      <td>NicolasCastroSilva@jourrapide.com</td>\n",
       "      <td>1</td>\n",
       "    </tr>\n",
       "    <tr>\n",
       "      <th>7988</th>\n",
       "      <td>NicolasCavalcantiBarbosa@gmail.com</td>\n",
       "      <td>1</td>\n",
       "    </tr>\n",
       "    <tr>\n",
       "      <th>7986</th>\n",
       "      <td>NicolasBarbosaMartins@gmail.com</td>\n",
       "      <td>1</td>\n",
       "    </tr>\n",
       "    <tr>\n",
       "      <th>0</th>\n",
       "      <td>AaliyahArmstrong@yahoo.com</td>\n",
       "      <td>1</td>\n",
       "    </tr>\n",
       "    <tr>\n",
       "      <th>7989</th>\n",
       "      <td>NicolasCorreiaSousa@yahoo.com</td>\n",
       "      <td>1</td>\n",
       "    </tr>\n",
       "  </tbody>\n",
       "</table>\n",
       "</div>"
      ],
      "text/plain": [
       "                                    email  count\n",
       "9993               ThomasBrandt@gmail.com      2\n",
       "10177               TomSchiffer@gmail.com      2\n",
       "5572             KerstinNeudorf@gmail.com      2\n",
       "10321              UlrikeGerste@gmail.com      2\n",
       "6765              MandySchroder@gustr.com      2\n",
       "6083                LeonieDuerr@gmail.com      2\n",
       "7081                MarkoSeiler@yahoo.com      2\n",
       "4450                JaninaSankt@gmail.com      2\n",
       "5672               KlausMueller@gustr.com      2\n",
       "5811              LasseLNrgaard@gmail.com      2\n",
       "4285                   JacobTye@gmail.com      2\n",
       "470                 AmandaABach@gmail.com      2\n",
       "330                   AlfieLane@yahoo.com      2\n",
       "7980               NicolaiSHolm@yahoo.com      2\n",
       "8270                 PaigeWyatt@gmail.com      2\n",
       "7351           MaximilianWalter@gmail.com      2\n",
       "5751           LaerkeMBertelsen@gmail.com      2\n",
       "5706              KristinKappel@yahoo.com      2\n",
       "6691        MagnusSWinther@jourrapide.com      2\n",
       "7663         MimirMKarlsen@jourrapide.com      2\n",
       "7987    NicolasCastroSilva@jourrapide.com      1\n",
       "7988   NicolasCavalcantiBarbosa@gmail.com      1\n",
       "7986      NicolasBarbosaMartins@gmail.com      1\n",
       "0              AaliyahArmstrong@yahoo.com      1\n",
       "7989        NicolasCorreiaSousa@yahoo.com      1"
      ]
     },
     "execution_count": 10,
     "metadata": {},
     "output_type": "execute_result"
    }
   ],
   "source": [
    "# there are some duplicate emails... who are they?\n",
    "users.groupby(['email'])['user_id'].count().reset_index(name='count').sort_values(['count'], ascending=False).head(25)"
   ]
  },
  {
   "cell_type": "code",
   "execution_count": 11,
   "id": "8d489f51",
   "metadata": {},
   "outputs": [
    {
     "data": {
      "text/plain": [
       "5"
      ]
     },
     "execution_count": 11,
     "metadata": {},
     "output_type": "execute_result"
    }
   ],
   "source": [
    "users.creation_source.nunique()"
   ]
  },
  {
   "cell_type": "code",
   "execution_count": 12,
   "id": "519a85f7",
   "metadata": {},
   "outputs": [
    {
     "data": {
      "text/plain": [
       "array([0, 1])"
      ]
     },
     "execution_count": 12,
     "metadata": {},
     "output_type": "execute_result"
    }
   ],
   "source": [
    "# this should be 1, 0\n",
    "users.enabled_for_marketing_drip.unique()"
   ]
  },
  {
   "cell_type": "code",
   "execution_count": 13,
   "id": "4a2bfb91",
   "metadata": {},
   "outputs": [
    {
     "data": {
      "text/plain": [
       "array([1, 0])"
      ]
     },
     "execution_count": 13,
     "metadata": {},
     "output_type": "execute_result"
    }
   ],
   "source": [
    "# this should also be 1,0\n",
    "users.opted_in_to_mailing_list.unique()"
   ]
  },
  {
   "cell_type": "code",
   "execution_count": 14,
   "id": "46c2c161",
   "metadata": {},
   "outputs": [
    {
     "data": {
      "text/plain": [
       "count    12000.000000\n",
       "mean       141.884583\n",
       "std        124.056723\n",
       "min          0.000000\n",
       "25%         29.000000\n",
       "50%        108.000000\n",
       "75%        238.250000\n",
       "max        416.000000\n",
       "Name: org_id, dtype: float64"
      ]
     },
     "execution_count": 14,
     "metadata": {},
     "output_type": "execute_result"
    }
   ],
   "source": [
    "# explore\n",
    "users.org_id.describe()"
   ]
  },
  {
   "cell_type": "code",
   "execution_count": 15,
   "id": "2ab834c5",
   "metadata": {},
   "outputs": [
    {
     "data": {
      "text/plain": [
       "count     6417.000000\n",
       "mean      5962.957145\n",
       "std       3383.761968\n",
       "min          3.000000\n",
       "25%       3058.000000\n",
       "50%       5954.000000\n",
       "75%       8817.000000\n",
       "max      11999.000000\n",
       "Name: invited_by_user_id, dtype: float64"
      ]
     },
     "execution_count": 15,
     "metadata": {},
     "output_type": "execute_result"
    }
   ],
   "source": [
    "#explore\n",
    "users.invited_by_user_id.describe()"
   ]
  },
  {
   "cell_type": "code",
   "execution_count": 16,
   "id": "74ca63e1",
   "metadata": {},
   "outputs": [
    {
     "data": {
      "text/plain": [
       "user_id                               0\n",
       "creation_time                         0\n",
       "name                                  0\n",
       "email                                 0\n",
       "creation_source                       0\n",
       "last_session_creation_time_unix    3177\n",
       "opted_in_to_mailing_list              0\n",
       "enabled_for_marketing_drip            0\n",
       "org_id                                0\n",
       "invited_by_user_id                 5583\n",
       "dtype: int64"
      ]
     },
     "execution_count": 16,
     "metadata": {},
     "output_type": "execute_result"
    }
   ],
   "source": [
    "# nulls\n",
    "users.isna().sum()"
   ]
  },
  {
   "cell_type": "code",
   "execution_count": 17,
   "id": "4c782926",
   "metadata": {},
   "outputs": [
    {
     "data": {
      "text/plain": [
       "1"
      ]
     },
     "execution_count": 17,
     "metadata": {},
     "output_type": "execute_result"
    }
   ],
   "source": [
    "# invited by user id could be filled with a fake user id, is user id 0 available?\n",
    "users.user_id.min()"
   ]
  },
  {
   "cell_type": "code",
   "execution_count": 18,
   "id": "4649bae3",
   "metadata": {},
   "outputs": [],
   "source": [
    "# fill missing invited by with 0\n",
    "users.invited_by_user_id = users.invited_by_user_id.fillna(0)"
   ]
  },
  {
   "cell_type": "markdown",
   "id": "43f44fc8",
   "metadata": {},
   "source": [
    "### Engagement"
   ]
  },
  {
   "cell_type": "code",
   "execution_count": 19,
   "id": "d0e95e43",
   "metadata": {},
   "outputs": [
    {
     "name": "stdout",
     "output_type": "stream",
     "text": [
      "<class 'pandas.core.frame.DataFrame'>\n",
      "RangeIndex: 207917 entries, 0 to 207916\n",
      "Data columns (total 3 columns):\n",
      " #   Column      Non-Null Count   Dtype \n",
      "---  ------      --------------   ----- \n",
      " 0   time_stamp  207917 non-null  object\n",
      " 1   user_id     207917 non-null  int64 \n",
      " 2   visited     207917 non-null  int64 \n",
      "dtypes: int64(2), object(1)\n",
      "memory usage: 4.8+ MB\n"
     ]
    }
   ],
   "source": [
    "engagement.info()"
   ]
  },
  {
   "cell_type": "code",
   "execution_count": 20,
   "id": "a9b7386b",
   "metadata": {},
   "outputs": [
    {
     "data": {
      "text/plain": [
       "array([1])"
      ]
     },
     "execution_count": 20,
     "metadata": {},
     "output_type": "execute_result"
    }
   ],
   "source": [
    "# the engagement dataframe is of logins, so is the visited column all 1? \n",
    "# as in only every entry is a login or a visit?\n",
    "engagement.visited.unique()"
   ]
  },
  {
   "cell_type": "markdown",
   "id": "7459e201",
   "metadata": {},
   "source": [
    "#### we can now sum the visit column to indicate visits per time period"
   ]
  },
  {
   "cell_type": "code",
   "execution_count": 21,
   "id": "96d08fcf",
   "metadata": {},
   "outputs": [],
   "source": [
    "# engagement time_stamp as datetime type\n",
    "engagement['time_stamp'] = pd.to_datetime(engagement['time_stamp'])"
   ]
  },
  {
   "cell_type": "code",
   "execution_count": 22,
   "id": "65c547b9",
   "metadata": {},
   "outputs": [],
   "source": [
    "# change index to time_stamp so .rolling() can filter a time period instead of number of rows\n",
    "engagement = engagement.set_index('time_stamp')"
   ]
  },
  {
   "cell_type": "code",
   "execution_count": 23,
   "id": "909135fc",
   "metadata": {},
   "outputs": [],
   "source": [
    "# filter by user, sum visits for 7 day periods\n",
    "engagement = pd.DataFrame(engagement.groupby(['user_id'])['visited'].rolling('7D').sum())"
   ]
  },
  {
   "cell_type": "code",
   "execution_count": 24,
   "id": "54fd4bda",
   "metadata": {},
   "outputs": [],
   "source": [
    "# we were told that adopted users were people who visited 3 times during a weekspan\n",
    "# trim this df down to just those users\n",
    "engagement = engagement[engagement['visited'] >= 3]"
   ]
  },
  {
   "cell_type": "code",
   "execution_count": 25,
   "id": "86ee5d8d",
   "metadata": {},
   "outputs": [],
   "source": [
    "# reset_index to undo the groupby so we can access the user_id column again\n",
    "engagement = engagement.reset_index()"
   ]
  },
  {
   "cell_type": "code",
   "execution_count": 27,
   "id": "74bb0355",
   "metadata": {},
   "outputs": [],
   "source": [
    "# create a list of adopted users\n",
    "adopted_users = list(engagement['user_id'].unique())"
   ]
  },
  {
   "cell_type": "code",
   "execution_count": 28,
   "id": "086cc289",
   "metadata": {},
   "outputs": [
    {
     "data": {
      "text/plain": [
       "1602"
      ]
     },
     "execution_count": 28,
     "metadata": {},
     "output_type": "execute_result"
    }
   ],
   "source": [
    "len(adopted_users)"
   ]
  },
  {
   "cell_type": "markdown",
   "id": "8c81e4cf",
   "metadata": {},
   "source": [
    "### create adopted user column"
   ]
  },
  {
   "cell_type": "code",
   "execution_count": 30,
   "id": "7a98b8e5",
   "metadata": {},
   "outputs": [],
   "source": [
    "# define a function to label users adopted 1, or not 0\n",
    "def adoption(entry):\n",
    "    \n",
    "    # label adopted \n",
    "    # adopted_users is a list of the adopted users user ids\n",
    "    if entry['user_id'] in adopted_users:\n",
    "        return 1\n",
    "    \n",
    "    # not adopted\n",
    "    else:\n",
    "        return 0"
   ]
  },
  {
   "cell_type": "code",
   "execution_count": 31,
   "id": "69881525",
   "metadata": {},
   "outputs": [],
   "source": [
    "# create a new column for pricing category\n",
    "users['adopted_user'] = users.apply(lambda x: adoption(x), axis=1)"
   ]
  },
  {
   "cell_type": "markdown",
   "id": "cdee7716",
   "metadata": {},
   "source": [
    "### Identify which factors predict future user adoption."
   ]
  },
  {
   "cell_type": "code",
   "execution_count": 35,
   "id": "1e1076a2",
   "metadata": {},
   "outputs": [],
   "source": [
    "# import machine learning libraries\n",
    "\n",
    "from sklearn.model_selection import train_test_split\n",
    "from sklearn.metrics import accuracy_score, confusion_matrix, classification_report\n",
    "from sklearn.ensemble import RandomForestClassifier\n",
    "\n",
    "import matplotlib.pyplot as plt"
   ]
  },
  {
   "cell_type": "code",
   "execution_count": 41,
   "id": "5db42055",
   "metadata": {},
   "outputs": [
    {
     "data": {
      "text/plain": [
       "Index(['user_id', 'creation_time', 'name', 'email', 'creation_source',\n",
       "       'last_session_creation_time_unix', 'opted_in_to_mailing_list',\n",
       "       'enabled_for_marketing_drip', 'org_id', 'invited_by_user_id',\n",
       "       'adopted_user'],\n",
       "      dtype='object')"
      ]
     },
     "execution_count": 41,
     "metadata": {},
     "output_type": "execute_result"
    }
   ],
   "source": [
    "# look at columns to identify x and y\n",
    "users.columns"
   ]
  },
  {
   "cell_type": "code",
   "execution_count": 42,
   "id": "0219fd4c",
   "metadata": {},
   "outputs": [
    {
     "data": {
      "text/html": [
       "<div>\n",
       "<style scoped>\n",
       "    .dataframe tbody tr th:only-of-type {\n",
       "        vertical-align: middle;\n",
       "    }\n",
       "\n",
       "    .dataframe tbody tr th {\n",
       "        vertical-align: top;\n",
       "    }\n",
       "\n",
       "    .dataframe thead th {\n",
       "        text-align: right;\n",
       "    }\n",
       "</style>\n",
       "<table border=\"1\" class=\"dataframe\">\n",
       "  <thead>\n",
       "    <tr style=\"text-align: right;\">\n",
       "      <th></th>\n",
       "      <th>user_id</th>\n",
       "      <th>creation_time</th>\n",
       "      <th>name</th>\n",
       "      <th>email</th>\n",
       "      <th>creation_source</th>\n",
       "      <th>last_session_creation_time_unix</th>\n",
       "      <th>opted_in_to_mailing_list</th>\n",
       "      <th>enabled_for_marketing_drip</th>\n",
       "      <th>org_id</th>\n",
       "      <th>invited_by_user_id</th>\n",
       "      <th>adopted_user</th>\n",
       "    </tr>\n",
       "  </thead>\n",
       "  <tbody>\n",
       "    <tr>\n",
       "      <th>11995</th>\n",
       "      <td>11996</td>\n",
       "      <td>2013-09-06 06:14:15</td>\n",
       "      <td>Meier Sophia</td>\n",
       "      <td>SophiaMeier@gustr.com</td>\n",
       "      <td>ORG_INVITE</td>\n",
       "      <td>1.378448e+09</td>\n",
       "      <td>0</td>\n",
       "      <td>0</td>\n",
       "      <td>89</td>\n",
       "      <td>8263.0</td>\n",
       "      <td>0</td>\n",
       "    </tr>\n",
       "    <tr>\n",
       "      <th>11996</th>\n",
       "      <td>11997</td>\n",
       "      <td>2013-01-10 18:28:37</td>\n",
       "      <td>Fisher Amelie</td>\n",
       "      <td>AmelieFisher@gmail.com</td>\n",
       "      <td>SIGNUP_GOOGLE_AUTH</td>\n",
       "      <td>1.358275e+09</td>\n",
       "      <td>0</td>\n",
       "      <td>0</td>\n",
       "      <td>200</td>\n",
       "      <td>0.0</td>\n",
       "      <td>0</td>\n",
       "    </tr>\n",
       "    <tr>\n",
       "      <th>11997</th>\n",
       "      <td>11998</td>\n",
       "      <td>2014-04-27 12:45:16</td>\n",
       "      <td>Haynes Jake</td>\n",
       "      <td>JakeHaynes@cuvox.de</td>\n",
       "      <td>GUEST_INVITE</td>\n",
       "      <td>1.398603e+09</td>\n",
       "      <td>1</td>\n",
       "      <td>1</td>\n",
       "      <td>83</td>\n",
       "      <td>8074.0</td>\n",
       "      <td>0</td>\n",
       "    </tr>\n",
       "    <tr>\n",
       "      <th>11998</th>\n",
       "      <td>11999</td>\n",
       "      <td>2012-05-31 11:55:59</td>\n",
       "      <td>Faber Annett</td>\n",
       "      <td>mhaerzxp@iuxiw.com</td>\n",
       "      <td>PERSONAL_PROJECTS</td>\n",
       "      <td>1.338638e+09</td>\n",
       "      <td>0</td>\n",
       "      <td>0</td>\n",
       "      <td>6</td>\n",
       "      <td>0.0</td>\n",
       "      <td>0</td>\n",
       "    </tr>\n",
       "    <tr>\n",
       "      <th>11999</th>\n",
       "      <td>12000</td>\n",
       "      <td>2014-01-26 08:57:12</td>\n",
       "      <td>Lima Thaís</td>\n",
       "      <td>ThaisMeloLima@hotmail.com</td>\n",
       "      <td>SIGNUP</td>\n",
       "      <td>1.390727e+09</td>\n",
       "      <td>0</td>\n",
       "      <td>1</td>\n",
       "      <td>0</td>\n",
       "      <td>0.0</td>\n",
       "      <td>0</td>\n",
       "    </tr>\n",
       "  </tbody>\n",
       "</table>\n",
       "</div>"
      ],
      "text/plain": [
       "       user_id        creation_time           name                      email  \\\n",
       "11995    11996  2013-09-06 06:14:15   Meier Sophia      SophiaMeier@gustr.com   \n",
       "11996    11997  2013-01-10 18:28:37  Fisher Amelie     AmelieFisher@gmail.com   \n",
       "11997    11998  2014-04-27 12:45:16    Haynes Jake        JakeHaynes@cuvox.de   \n",
       "11998    11999  2012-05-31 11:55:59   Faber Annett         mhaerzxp@iuxiw.com   \n",
       "11999    12000  2014-01-26 08:57:12     Lima Thaís  ThaisMeloLima@hotmail.com   \n",
       "\n",
       "          creation_source  last_session_creation_time_unix  \\\n",
       "11995          ORG_INVITE                     1.378448e+09   \n",
       "11996  SIGNUP_GOOGLE_AUTH                     1.358275e+09   \n",
       "11997        GUEST_INVITE                     1.398603e+09   \n",
       "11998   PERSONAL_PROJECTS                     1.338638e+09   \n",
       "11999              SIGNUP                     1.390727e+09   \n",
       "\n",
       "       opted_in_to_mailing_list  enabled_for_marketing_drip  org_id  \\\n",
       "11995                         0                           0      89   \n",
       "11996                         0                           0     200   \n",
       "11997                         1                           1      83   \n",
       "11998                         0                           0       6   \n",
       "11999                         0                           1       0   \n",
       "\n",
       "       invited_by_user_id  adopted_user  \n",
       "11995              8263.0             0  \n",
       "11996                 0.0             0  \n",
       "11997              8074.0             0  \n",
       "11998                 0.0             0  \n",
       "11999                 0.0             0  "
      ]
     },
     "execution_count": 42,
     "metadata": {},
     "output_type": "execute_result"
    }
   ],
   "source": [
    "users.tail()"
   ]
  },
  {
   "cell_type": "code",
   "execution_count": 49,
   "id": "5dce0ab2",
   "metadata": {},
   "outputs": [
    {
     "data": {
      "text/plain": [
       "user_id                               0\n",
       "creation_time                         0\n",
       "name                                  0\n",
       "email                                 0\n",
       "creation_source                       0\n",
       "last_session_creation_time_unix    3177\n",
       "opted_in_to_mailing_list              0\n",
       "enabled_for_marketing_drip            0\n",
       "org_id                                0\n",
       "invited_by_user_id                    0\n",
       "adopted_user                          0\n",
       "hot_creation_source                   0\n",
       "dtype: int64"
      ]
     },
     "execution_count": 49,
     "metadata": {},
     "output_type": "execute_result"
    }
   ],
   "source": [
    "# nulls?\n",
    "users.isna().sum()"
   ]
  },
  {
   "cell_type": "code",
   "execution_count": 50,
   "id": "0ca20061",
   "metadata": {},
   "outputs": [],
   "source": [
    "# fill those missing timestamps with 0, however if the last session is missing does that mean they never visited?\n",
    "users.last_session_creation_time_unix = users.last_session_creation_time_unix.fillna(0)"
   ]
  },
  {
   "cell_type": "code",
   "execution_count": 43,
   "id": "e2183786",
   "metadata": {},
   "outputs": [
    {
     "data": {
      "text/plain": [
       "array(['GUEST_INVITE', 'ORG_INVITE', 'SIGNUP', 'PERSONAL_PROJECTS',\n",
       "       'SIGNUP_GOOGLE_AUTH'], dtype=object)"
      ]
     },
     "execution_count": 43,
     "metadata": {},
     "output_type": "execute_result"
    }
   ],
   "source": [
    "# I forgot about creation source!\n",
    "users.creation_source.unique()"
   ]
  },
  {
   "cell_type": "code",
   "execution_count": 44,
   "id": "ca791501",
   "metadata": {},
   "outputs": [],
   "source": [
    "# simple one hot encode for creation_source\n",
    "def rename_CS(x):\n",
    "    if 'GUEST_INVITE' in x:\n",
    "        return 1\n",
    "    elif 'ORG_INVITE' in x:\n",
    "        return 2\n",
    "    elif 'SIGNUP' in x:\n",
    "        return 3\n",
    "    elif 'PERSONAL_PROJECTS' in x:\n",
    "        return 4\n",
    "    elif 'SIGNUP_GOOGLE_AUTH' in x:\n",
    "        return 5"
   ]
  },
  {
   "cell_type": "code",
   "execution_count": 45,
   "id": "d9723b81",
   "metadata": {},
   "outputs": [],
   "source": [
    "# new column for creation source numeric type\n",
    "users['hot_creation_source'] = users['creation_source'].apply(lambda x: rename_CS(x))"
   ]
  },
  {
   "cell_type": "code",
   "execution_count": 237,
   "id": "07f4b4c2",
   "metadata": {},
   "outputs": [],
   "source": [
    "# create columns for date info\n",
    "users[[\"creation_time_year\", \"creation_time_month\", \"creation_time_day\"]] = users[\"creation_time\"].str.split(\"-\", expand = True)"
   ]
  },
  {
   "cell_type": "code",
   "execution_count": 247,
   "id": "2a63a208",
   "metadata": {},
   "outputs": [],
   "source": [
    "# clean up day column\n",
    "users[['creation_time_day', 'time']] = pd.DataFrame(users['creation_time_day'].tolist(), index= users.index)"
   ]
  },
  {
   "cell_type": "code",
   "execution_count": 250,
   "id": "10629092",
   "metadata": {},
   "outputs": [],
   "source": [
    "users[[\"creation_time_year\", \"creation_time_month\", \"creation_time_day\"]] = users[[\"creation_time_year\", \"creation_time_month\", \"creation_time_day\"]].astype('int')"
   ]
  },
  {
   "cell_type": "code",
   "execution_count": 251,
   "id": "0dc454dd",
   "metadata": {},
   "outputs": [],
   "source": [
    "users = users.drop(columns=['time'])"
   ]
  },
  {
   "cell_type": "markdown",
   "id": "196aa943",
   "metadata": {},
   "source": [
    "## Models"
   ]
  },
  {
   "cell_type": "code",
   "execution_count": 252,
   "id": "2f2b57fc",
   "metadata": {},
   "outputs": [],
   "source": [
    "y = users['adopted_user']\n",
    "x = users.drop(columns=['adopted_user','name','email','creation_source', 'creation_time'])"
   ]
  },
  {
   "cell_type": "code",
   "execution_count": 253,
   "id": "3c071a6b",
   "metadata": {},
   "outputs": [],
   "source": [
    "# create test/ train data sets\n",
    "X_train, X_test, y_train, y_test = train_test_split(x, y, test_size=0.2, random_state=43)"
   ]
  },
  {
   "cell_type": "code",
   "execution_count": 254,
   "id": "a82e3a04",
   "metadata": {},
   "outputs": [],
   "source": [
    "# random forest classifier, almost out of the box\n",
    "\n",
    "random_forest_classifier = RandomForestClassifier(n_estimators=1000, criterion='entropy')\n",
    "model = random_forest_classifier.fit(X_train, y_train)\n",
    "y_pred = model.predict(X_test)"
   ]
  },
  {
   "cell_type": "markdown",
   "id": "28ab4c08",
   "metadata": {},
   "source": [
    "## metrics"
   ]
  },
  {
   "cell_type": "code",
   "execution_count": 255,
   "id": "94bb4ab6",
   "metadata": {},
   "outputs": [
    {
     "data": {
      "text/plain": [
       "array([[2031,   23],\n",
       "       [  70,  276]])"
      ]
     },
     "execution_count": 255,
     "metadata": {},
     "output_type": "execute_result"
    }
   ],
   "source": [
    "confusion_matrix(y_test, y_pred)"
   ]
  },
  {
   "cell_type": "code",
   "execution_count": 256,
   "id": "a57a0089",
   "metadata": {},
   "outputs": [
    {
     "name": "stdout",
     "output_type": "stream",
     "text": [
      "              precision    recall  f1-score   support\n",
      "\n",
      "           0       0.97      0.99      0.98      2054\n",
      "           1       0.92      0.80      0.86       346\n",
      "\n",
      "    accuracy                           0.96      2400\n",
      "   macro avg       0.94      0.89      0.92      2400\n",
      "weighted avg       0.96      0.96      0.96      2400\n",
      "\n"
     ]
    }
   ],
   "source": [
    "print(classification_report(y_test, y_pred))"
   ]
  },
  {
   "cell_type": "markdown",
   "id": "bc9ab7d2",
   "metadata": {},
   "source": [
    "#### The model predictions:\n",
    "Pretty good job at predicting 0, still over predicts 0 giving 1's low recall "
   ]
  },
  {
   "cell_type": "code",
   "execution_count": 288,
   "id": "194b2e8d",
   "metadata": {},
   "outputs": [],
   "source": [
    "# random forest classifier, with modified weighting \n",
    "\n",
    "random_forest_classifier2 = RandomForestClassifier(n_estimators=1000, criterion='entropy', class_weight={0:5,1:1})\n",
    "model2 = random_forest_classifier2.fit(X_train, y_train)\n",
    "y_pred2 = model2.predict(X_test)"
   ]
  },
  {
   "cell_type": "code",
   "execution_count": 289,
   "id": "1fce4bf8",
   "metadata": {},
   "outputs": [
    {
     "data": {
      "text/plain": [
       "array([[2031,   23],\n",
       "       [  68,  278]])"
      ]
     },
     "execution_count": 289,
     "metadata": {},
     "output_type": "execute_result"
    }
   ],
   "source": [
    "confusion_matrix(y_test, y_pred2)"
   ]
  },
  {
   "cell_type": "code",
   "execution_count": 290,
   "id": "3140b5bc",
   "metadata": {},
   "outputs": [
    {
     "name": "stdout",
     "output_type": "stream",
     "text": [
      "              precision    recall  f1-score   support\n",
      "\n",
      "           0       0.97      0.99      0.98      2054\n",
      "           1       0.92      0.80      0.86       346\n",
      "\n",
      "    accuracy                           0.96      2400\n",
      "   macro avg       0.95      0.90      0.92      2400\n",
      "weighted avg       0.96      0.96      0.96      2400\n",
      "\n"
     ]
    }
   ],
   "source": [
    "print(classification_report(y_test, y_pred2))"
   ]
  },
  {
   "cell_type": "code",
   "execution_count": 291,
   "id": "b5174b5a",
   "metadata": {},
   "outputs": [
    {
     "data": {
      "image/png": "[encoded data removed]",
      "text/plain": [
       "<Figure size 432x288 with 1 Axes>"
      ]
     },
     "metadata": {
      "needs_background": "light"
     },
     "output_type": "display_data"
    }
   ],
   "source": [
    "features = model2.feature_importances_\n",
    "\n",
    "fig, ax = plt.subplots() \n",
    "width = 0.6 # the width of the bars \n",
    "ind = np.arange(len(features)) # the x locations for the groups\n",
    "\n",
    "ax.barh(ind, features, width, color=\"green\")\n",
    "ax.set_yticks(ind+width/5)\n",
    "\n",
    "ax.set_yticklabels(x, minor=False, fontsize=10)\n",
    "plt.title('Feature importance in RandomForest Classifier')\n",
    "plt.xlabel('Relative importance')\n",
    "plt.ylabel('Features') \n",
    "plt.show()"
   ]
  },
  {
   "cell_type": "markdown",
   "id": "a753e24f",
   "metadata": {},
   "source": [
    "# KNN"
   ]
  },
  {
   "cell_type": "code",
   "execution_count": 261,
   "id": "1736ab20",
   "metadata": {},
   "outputs": [],
   "source": [
    "from sklearn.neighbors import KNeighborsClassifier"
   ]
  },
  {
   "cell_type": "code",
   "execution_count": 292,
   "id": "d41e5617",
   "metadata": {},
   "outputs": [],
   "source": [
    "knn_model = KNeighborsClassifier(n_neighbors=3, weights='distance', metric='manhattan')\n",
    "knn_model.fit(X_train, y_train)\n",
    "preds=knn_model.predict(X_test)"
   ]
  },
  {
   "cell_type": "code",
   "execution_count": 293,
   "id": "cf612d66",
   "metadata": {},
   "outputs": [
    {
     "data": {
      "text/plain": [
       "array([[1944,  110],\n",
       "       [ 142,  204]])"
      ]
     },
     "execution_count": 293,
     "metadata": {},
     "output_type": "execute_result"
    }
   ],
   "source": [
    "confusion_matrix(y_test, preds)"
   ]
  },
  {
   "cell_type": "code",
   "execution_count": 294,
   "id": "2ed04708",
   "metadata": {},
   "outputs": [
    {
     "name": "stdout",
     "output_type": "stream",
     "text": [
      "              precision    recall  f1-score   support\n",
      "\n",
      "           0       0.93      0.95      0.94      2054\n",
      "           1       0.65      0.59      0.62       346\n",
      "\n",
      "    accuracy                           0.90      2400\n",
      "   macro avg       0.79      0.77      0.78      2400\n",
      "weighted avg       0.89      0.90      0.89      2400\n",
      "\n"
     ]
    }
   ],
   "source": [
    "print(classification_report(y_test, preds))"
   ]
  },
  {
   "cell_type": "markdown",
   "id": "038933cf",
   "metadata": {},
   "source": [
    "#### not as good as tree"
   ]
  },
  {
   "cell_type": "markdown",
   "id": "dee20bfc",
   "metadata": {},
   "source": [
    "## thoughts for later:\n",
    "1. Are duplicate emails the same person?"
   ]
  },
  {
   "cell_type": "markdown",
   "id": "7c45b180",
   "metadata": {},
   "source": [
    "Creation day, month and year were all great indicators of whether or not someone became an adopted user. There is something about specific times of year that provides optimism for your service, perhaps its the weather or current events"
   ]
  },
  {
   "cell_type": "code",
   "execution_count": null,
   "id": "58f6c3d0",
   "metadata": {},
   "outputs": [],
   "source": []
  }
 ],
 "metadata": {
  "kernelspec": {
   "display_name": "Python 3 (ipykernel)",
   "language": "python",
   "name": "python3"
  },
  "language_info": {
   "codemirror_mode": {
    "name": "ipython",
    "version": 3
   },
   "file_extension": ".py",
   "mimetype": "text/x-python",
   "name": "python",
   "nbconvert_exporter": "python",
   "pygments_lexer": "ipython3",
   "version": "3.8.12"
  }
 },
 "nbformat": 4,
 "nbformat_minor": 5
}
