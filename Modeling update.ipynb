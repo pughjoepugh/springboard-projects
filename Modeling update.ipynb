{
 "cells": [
  {
   "cell_type": "code",
   "execution_count": 1,
   "metadata": {},
   "outputs": [],
   "source": [
    "# import packages\n",
    "\n",
    "# pandas for dataframe manipulation\n",
    "import pandas as pd\n",
    "\n",
    "# numerical python for some math needs\n",
    "import numpy as np\n",
    "\n",
    "# matplot lib and seaborn are graphical representation\n",
    "import matplotlib.pyplot as plt\n",
    "import seaborn as sns \n",
    "\n",
    "# stats model is more statistical modeling\n",
    "import statsmodels.api as sm\n",
    "from statsmodels.graphics.api import abline_plot\n",
    "\n",
    "# sklearn packages for various modeling/ machine learning\n",
    "from sklearn.metrics import mean_squared_error, r2_score\n",
    "from sklearn.model_selection import train_test_split\n",
    "from sklearn import linear_model, preprocessing\n",
    "from sklearn.decomposition import PCA\n",
    "from sklearn.ensemble import RandomForestRegressor"
   ]
  },
  {
   "cell_type": "code",
   "execution_count": 2,
   "metadata": {},
   "outputs": [],
   "source": [
    "# load the cleaned data\n",
    "NBA = pd.read_csv('NBA.csv')"
   ]
  },
  {
   "cell_type": "code",
   "execution_count": 3,
   "metadata": {},
   "outputs": [],
   "source": [
    "# create the dependent variable, this wins column because we are trying to predict win totals\n",
    "NBA_y = NBA['Wins']"
   ]
  },
  {
   "cell_type": "code",
   "execution_count": 4,
   "metadata": {},
   "outputs": [],
   "source": [
    "# create the independent variable by removing the dependent variable and other description features\n",
    "NBA_X = NBA.drop(columns=['Team', 'Wins','Season','Row ID'])"
   ]
  },
  {
   "cell_type": "code",
   "execution_count": 5,
   "metadata": {},
   "outputs": [],
   "source": [
    "# split into a training and testing data sets.\n",
    "# being sure to keep the test set away from the training data to not influence model development\n",
    "X_train, X_test, y_train, y_test = train_test_split(NBA_X, NBA_y, test_size=0.2, random_state=15)"
   ]
  },
  {
   "cell_type": "code",
   "execution_count": 6,
   "metadata": {},
   "outputs": [],
   "source": [
    "#standardize the data so they are all in the same format\n",
    "\n",
    "#assign the standard scaler to a variable\n",
    "scaler = preprocessing.StandardScaler()\n",
    "\n",
    "#fit the scaler ON ONLY THE TRAINING SET\n",
    "scaler.fit(X_train)\n",
    "\n",
    "# process both the independent and dependent data through the standard scaler\n",
    "# assigning them to new variables\n",
    "X_train_scaled = scaler.transform(X_train)\n",
    "X_test_scaled = scaler.transform(X_test)"
   ]
  },
  {
   "cell_type": "code",
   "execution_count": 7,
   "metadata": {},
   "outputs": [
    {
     "name": "stdout",
     "output_type": "stream",
     "text": [
      "std :  0.1 not std :  1.0\n"
     ]
    }
   ],
   "source": [
    "#first model selection is ridge. Ridge should work better than linearReg and Lasso due \n",
    "#to the colinearity of features\n",
    "\n",
    "# I am using ridge cv so the alpha is optimized on it's own\n",
    "\n",
    "#standardized\n",
    "ridge_std = linear_model.RidgeCV()\n",
    "model_ridge_std = ridge_std.fit(X_train_scaled, y_train)\n",
    "ridge_coef = ridge_std.fit(X_train_scaled, y_train).coef_\n",
    "\n",
    "#NOT standardized\n",
    "ridge = linear_model.RidgeCV()\n",
    "model_ridge = ridge.fit(X_train, y_train)\n",
    "print('std : ', model_ridge_std.alpha_, 'not std : ',model_ridge.alpha_)"
   ]
  },
  {
   "cell_type": "markdown",
   "metadata": {},
   "source": [
    "As alpha increases model complexity reduces."
   ]
  },
  {
   "cell_type": "code",
   "execution_count": 8,
   "metadata": {},
   "outputs": [
    {
     "data": {
      "text/plain": [
       "(0.4097123884156916, -425.2361777621615)"
      ]
     },
     "execution_count": 8,
     "metadata": {},
     "output_type": "execute_result"
    }
   ],
   "source": [
    "# comparing models\n",
    "# .score provides the R squared. best result would be 1.0\n",
    "model_ridge_std.score(X_train_scaled, y_train), model_ridge.score(X_train, y_train)"
   ]
  },
  {
   "cell_type": "code",
   "execution_count": 59,
   "metadata": {},
   "outputs": [],
   "source": [
    "# the standardized model was WOW-ZERS BETTER, still not great\n"
   ]
  },
  {
   "cell_type": "code",
   "execution_count": 10,
   "metadata": {},
   "outputs": [],
   "source": [
    "#continuing with just standardized\n",
    "\n",
    "y_predRIDGE = model_ridge_std.predict(X_test_scaled)\n",
    "win_predict_ridge = y_predRIDGE-y_test"
   ]
  },
  {
   "cell_type": "code",
   "execution_count": 113,
   "metadata": {},
   "outputs": [
    {
     "data": {
      "text/plain": [
       "6      0.038940\n",
       "61     0.092998\n",
       "90     0.071609\n",
       "30     0.102953\n",
       "31     0.069740\n",
       "55     0.146047\n",
       "109    0.052302\n",
       "98     0.244949\n",
       "59     0.125029\n",
       "103    0.010844\n",
       "126    0.062241\n",
       "97     0.235654\n",
       "74     0.166243\n",
       "67     0.071519\n",
       "115    0.088519\n",
       "25     0.002999\n",
       "95     0.046974\n",
       "100    0.148072\n",
       "9      0.010505\n",
       "129    0.009687\n",
       "71     0.007647\n",
       "47     0.053445\n",
       "86     0.095789\n",
       "57     0.059549\n",
       "48     0.250479\n",
       "5      0.049751\n",
       "112    0.173281\n",
       "148    0.141757\n",
       "122    0.019190\n",
       "78     0.104511\n",
       "Name: Wins, dtype: float64"
      ]
     },
     "execution_count": 113,
     "metadata": {},
     "output_type": "execute_result"
    }
   ],
   "source": [
    "# this it the difference in win percent prediction and real wins for those teams\n",
    "win_predict_ridge = abs(win_predict_ridge)\n",
    "\n",
    "win_predict_ridge"
   ]
  },
  {
   "cell_type": "markdown",
   "metadata": {},
   "source": [
    "a few of these are really off. 48, 97, 98"
   ]
  },
  {
   "cell_type": "code",
   "execution_count": 17,
   "metadata": {},
   "outputs": [
    {
     "data": {
      "text/plain": [
       "6      0.621951\n",
       "61     0.658537\n",
       "90     0.611000\n",
       "30     0.585366\n",
       "31     0.560976\n",
       "55     0.634146\n",
       "109    0.452000\n",
       "98     0.231000\n",
       "59     0.670732\n",
       "103    0.417000\n",
       "126    0.652778\n",
       "97     0.732000\n",
       "74     0.402439\n",
       "67     0.451220\n",
       "115    0.589000\n",
       "25     0.341463\n",
       "95     0.466000\n",
       "100    0.573000\n",
       "9      0.390244\n",
       "129    0.430556\n",
       "71     0.585366\n",
       "47     0.524390\n",
       "86     0.512195\n",
       "57     0.353659\n",
       "48     0.439024\n",
       "5      0.292683\n",
       "112    0.303000\n",
       "148    0.375000\n",
       "122    0.583333\n",
       "78     0.475610\n",
       "Name: Wins, dtype: float64"
      ]
     },
     "execution_count": 17,
     "metadata": {},
     "output_type": "execute_result"
    }
   ],
   "source": [
    "#here are the real win totals for the test team/seasons\n",
    "y_test"
   ]
  },
  {
   "cell_type": "code",
   "execution_count": 19,
   "metadata": {},
   "outputs": [
    {
     "data": {
      "text/plain": [
       "array([0.58301089, 0.5655384 , 0.53939051, 0.48241274, 0.49123516,\n",
       "       0.48809885, 0.50430173, 0.47594878, 0.54570297, 0.42784362,\n",
       "       0.59053639, 0.49634586, 0.56868207, 0.52273889, 0.67751868,\n",
       "       0.33846488, 0.41902556, 0.42492765, 0.40074874, 0.44024303,\n",
       "       0.57771918, 0.57783508, 0.41640647, 0.41320774, 0.68950348,\n",
       "       0.34243344, 0.47628071, 0.51675679, 0.56414299, 0.58012031])"
      ]
     },
     "execution_count": 19,
     "metadata": {},
     "output_type": "execute_result"
    }
   ],
   "source": [
    "y_predRIDGE"
   ]
  },
  {
   "cell_type": "code",
   "execution_count": 16,
   "metadata": {},
   "outputs": [
    {
     "data": {
      "text/plain": [
       "Season              2017-18\n",
       "Row ID                   18\n",
       "Team      Charlotte Hornets\n",
       "Wins               0.439024\n",
       "1 TS             23500000.0\n",
       "1% TS             20.046377\n",
       "1% SC             23.715096\n",
       "2 TS             45934783.0\n",
       "2% TS             39.184085\n",
       "2% SC             46.355225\n",
       "3 TS             59103533.0\n",
       "3% TS              50.41752\n",
       "3% SC             59.644509\n",
       "4 TS             72103533.0\n",
       "4% TS             61.507005\n",
       "4% SC             72.763498\n",
       "5 TS             84687803.0\n",
       "5% TS             72.241857\n",
       "5% SC             85.462952\n",
       "6 TS             96687803.0\n",
       "6% TS             82.478305\n",
       "6% SC             97.572788\n",
       "7 TS            103687803.0\n",
       "7% TS             88.449567\n",
       "7% SC            104.636859\n",
       "8 TS            106592283.0\n",
       "8% TS             90.927196\n",
       "8% SC            107.567924\n",
       "9 TS            109439883.0\n",
       "9% TS             93.356306\n",
       "9% SC            110.441588\n",
       "10 TS           112139883.0\n",
       "10% TS            95.659506\n",
       "10% SC           113.166301\n",
       "Name: 48, dtype: object"
      ]
     },
     "execution_count": 16,
     "metadata": {},
     "output_type": "execute_result"
    }
   ],
   "source": [
    "# this prediction was .25 percent off. that is 20 wins. \n",
    "# the 2017 charlotte hornets were the kemba walker on a rookie contract, dwight howard at 23m \n",
    "# and nicholas batum at 22m. they were not good. they missed the playoffs. \n",
    "# those players definitely did not play to the level of their contract. \n",
    "# this model predicted 56 wins\n",
    "# y_pred 0.68950348 y_test 0.439024\n",
    "NBA.iloc[48]"
   ]
  },
  {
   "cell_type": "code",
   "execution_count": 18,
   "metadata": {},
   "outputs": [
    {
     "data": {
      "text/plain": [
       "Season               2019-20\n",
       "Row ID                     7\n",
       "Team      Los Angeles Lakers\n",
       "Wins                   0.732\n",
       "1 TS              37436858.0\n",
       "1% TS                29.8459\n",
       "1% SC              34.301684\n",
       "2 TS              64529877.0\n",
       "2% TS               51.44535\n",
       "2% SC              59.125781\n",
       "3 TS              79164023.0\n",
       "3% TS              63.112174\n",
       "3% SC              72.534381\n",
       "4 TS              87253305.0\n",
       "4% TS              69.561217\n",
       "4% SC               79.94622\n",
       "5 TS              92253305.0\n",
       "5% TS              73.547382\n",
       "5% SC              84.527492\n",
       "6 TS              97020305.0\n",
       "6% TS              77.347792\n",
       "6% SC              88.895277\n",
       "7 TS             101020305.0\n",
       "7% TS              80.536724\n",
       "7% SC              92.560294\n",
       "8 TS             104520305.0\n",
       "8% TS               83.32704\n",
       "8% SC              95.767184\n",
       "9 TS             107520305.0\n",
       "9% TS              85.718739\n",
       "9% SC              98.515947\n",
       "10 TS            110270305.0\n",
       "10% TS              87.91113\n",
       "10% SC            101.035647\n",
       "Name: 97, dtype: object"
      ]
     },
     "execution_count": 18,
     "metadata": {},
     "output_type": "execute_result"
    }
   ],
   "source": [
    "# this is the 2019-20 champion lakers 1 seed in the west. they went 52-19 in the pandemic shortened season\n",
    "# salary stuff for this team. lebron makes 37m and anthony davis makes 27m\n",
    "# this model really didn't like this team predicting sub .500\n",
    "# y_pred was 0.49634586 y_true was 0.732000\n",
    "\n",
    "NBA.iloc[97]"
   ]
  },
  {
   "cell_type": "code",
   "execution_count": 22,
   "metadata": {},
   "outputs": [
    {
     "data": {
      "text/plain": [
       "Season                  2019-20\n",
       "Row ID                        8\n",
       "Team      Golden State Warriors\n",
       "Wins                      0.231\n",
       "1 TS                 40231758.0\n",
       "1% TS                 30.587996\n",
       "1% SC                 36.862523\n",
       "2 TS                 72973758.0\n",
       "2% TS                 55.481568\n",
       "2% SC                 66.862523\n",
       "3 TS                100478388.0\n",
       "3% TS                 76.393195\n",
       "3% SC                  92.06376\n",
       "4 TS                119017518.0\n",
       "4% TS                 90.488399\n",
       "4% SC                109.050319\n",
       "5 TS                123481804.0\n",
       "5% TS                 93.882572\n",
       "5% SC                 113.14074\n",
       "6 TS                125446564.0\n",
       "6% TS                 95.376369\n",
       "6% SC                 114.94096\n",
       "7 TS                126859836.0\n",
       "7% TS                 96.450872\n",
       "7% SC                116.235877\n",
       "8 TS                127758146.0\n",
       "8% TS                 97.133853\n",
       "8% SC                117.058957\n",
       "9 TS                128656456.0\n",
       "9% TS                 97.816833\n",
       "9% SC                117.882038\n",
       "10 TS               129498783.0\n",
       "10% TS                 98.45725\n",
       "10% SC               118.653824\n",
       "Name: 98, dtype: object"
      ]
     },
     "execution_count": 22,
     "metadata": {},
     "output_type": "execute_result"
    }
   ],
   "source": [
    "#The pandemic season warriors were super injured. \n",
    "#Stephen curry 40m injured klay thompson 32m injured full season\n",
    "# y_pred 0.47594878 y_test 0.231000\n",
    "# i am learning this model does not like super stars\n",
    "NBA.iloc[98]"
   ]
  },
  {
   "cell_type": "code",
   "execution_count": 26,
   "metadata": {},
   "outputs": [
    {
     "data": {
      "text/plain": [
       "count    30.000000\n",
       "mean      0.091774\n",
       "std       0.070588\n",
       "min       0.002999\n",
       "25%       0.047668\n",
       "50%       0.071564\n",
       "75%       0.137575\n",
       "max       0.250479\n",
       "Name: Wins, dtype: float64"
      ]
     },
     "execution_count": 26,
     "metadata": {},
     "output_type": "execute_result"
    }
   ],
   "source": [
    "# average of 7.5 wins off real.. 25% 3.9 wins off.. 50% 5.86 wins off\n",
    "# I would be happy with an average of 4 wins\n",
    "# correction! I checked some vegas odds for win predictions against outcomes\n",
    "# vegas was off by 5.3 wins for the 2020-21 season that is the mark to beat.\n",
    "\n",
    "abs_win = abs(win_predict_ridge)\n",
    "abs_win.describe()"
   ]
  },
  {
   "cell_type": "code",
   "execution_count": 27,
   "metadata": {},
   "outputs": [],
   "source": [
    "# trying a different type of scaling\n",
    "\n",
    "min_max_scaler = preprocessing.MinMaxScaler()\n",
    "min_max_scaler.fit(X_train)\n",
    "X_train_mms = min_max_scaler.transform(X_train)\n",
    "X_test_mms = min_max_scaler.transform(X_test)"
   ]
  },
  {
   "cell_type": "code",
   "execution_count": 28,
   "metadata": {},
   "outputs": [
    {
     "name": "stdout",
     "output_type": "stream",
     "text": [
      "min max std :  0.1\n"
     ]
    }
   ],
   "source": [
    "#min max std with ridge cv\n",
    "mms_ridge = linear_model.RidgeCV()\n",
    "mms_ridge_model = mms_ridge.fit(X_train_mms, y_train)\n",
    "\n",
    "#NOT standardized is the same so do nothing new\n",
    "\n",
    "print('min max std : ', mms_ridge_model.alpha_)"
   ]
  },
  {
   "cell_type": "code",
   "execution_count": 29,
   "metadata": {},
   "outputs": [
    {
     "data": {
      "text/plain": [
       "(0.4097123884156916, 0.3368239173740357)"
      ]
     },
     "execution_count": 29,
     "metadata": {},
     "output_type": "execute_result"
    }
   ],
   "source": [
    "#comparing models... reminder 1.0 is the best score\n",
    "model_ridge_std.score(X_train_scaled, y_train), mms_ridge_model.score(X_train_mms, y_train)"
   ]
  },
  {
   "cell_type": "code",
   "execution_count": 30,
   "metadata": {},
   "outputs": [],
   "source": [
    "#lets try power transformer\n",
    "power = preprocessing.PowerTransformer(method='box-cox')\n",
    "power.fit(X_train)\n",
    "X_train_power = power.transform(X_train)\n",
    "X_test_power = power.transform(X_test)"
   ]
  },
  {
   "cell_type": "code",
   "execution_count": 31,
   "metadata": {},
   "outputs": [],
   "source": [
    "#power\n",
    "ridge_power = linear_model.RidgeCV()\n",
    "model_ridge_power = ridge_power.fit(X_train_power, y_train)"
   ]
  },
  {
   "cell_type": "code",
   "execution_count": 32,
   "metadata": {},
   "outputs": [
    {
     "data": {
      "text/plain": [
       "0.31118085572014853"
      ]
     },
     "execution_count": 32,
     "metadata": {},
     "output_type": "execute_result"
    }
   ],
   "source": [
    "#comparing standardizer\n",
    "model_ridge_power.score(X_train_power, y_train)"
   ]
  },
  {
   "cell_type": "code",
   "execution_count": 33,
   "metadata": {},
   "outputs": [],
   "source": [
    "#the standardscaler did better than the min max scaler and the power transformer"
   ]
  },
  {
   "cell_type": "code",
   "execution_count": 34,
   "metadata": {},
   "outputs": [
    {
     "data": {
      "text/plain": [
       "0.25389945197408603"
      ]
     },
     "execution_count": 34,
     "metadata": {},
     "output_type": "execute_result"
    }
   ],
   "source": [
    "#let's test lasso\n",
    "names = NBA.drop(['Team', 'Wins','Season','Row ID'], axis=1).columns\n",
    "lasso = linear_model.LassoCV(max_iter=200000)\n",
    "model_lasso = lasso.fit(X_train_scaled, y_train)\n",
    "lasso_coef = lasso.fit(X_train_scaled, y_train).coef_\n",
    "model_lasso.score(X_train_scaled, y_train)"
   ]
  },
  {
   "cell_type": "code",
   "execution_count": 97,
   "metadata": {},
   "outputs": [
    {
     "data": {
      "text/plain": [
       "0.009959047821398805"
      ]
     },
     "execution_count": 97,
     "metadata": {},
     "output_type": "execute_result"
    }
   ],
   "source": [
    "model_lasso.alpha_"
   ]
  },
  {
   "cell_type": "code",
   "execution_count": 79,
   "metadata": {},
   "outputs": [
    {
     "data": {
      "text/plain": [
       "6      0.064071\n",
       "61     0.112170\n",
       "90     0.055939\n",
       "30     0.102928\n",
       "31     0.067850\n",
       "55     0.142599\n",
       "109    0.034116\n",
       "98     0.397170\n",
       "59     0.139950\n",
       "103    0.050715\n",
       "126    0.068305\n",
       "97     0.228571\n",
       "74     0.140257\n",
       "67     0.053809\n",
       "115    0.005150\n",
       "25     0.032272\n",
       "95     0.028717\n",
       "100    0.108125\n",
       "9      0.006529\n",
       "129    0.045848\n",
       "71     0.066202\n",
       "47     0.042932\n",
       "86     0.039461\n",
       "57     0.115337\n",
       "48     0.119895\n",
       "5      0.131896\n",
       "112    0.187322\n",
       "148    0.168414\n",
       "122    0.038256\n",
       "78     0.041672\n",
       "Name: Wins, dtype: float64"
      ]
     },
     "execution_count": 79,
     "metadata": {},
     "output_type": "execute_result"
    }
   ],
   "source": [
    "#like expected lasso has a worse r2\n",
    "y_pred_lasso = model_lasso.predict(X_test_scaled)\n",
    "win_predict_lasso = y_pred_lasso-y_test\n",
    "win_predict_lasso = abs(win_predict_lasso)\n",
    "win_predict_lasso"
   ]
  },
  {
   "cell_type": "code",
   "execution_count": 80,
   "metadata": {},
   "outputs": [
    {
     "data": {
      "text/plain": [
       "count    30.000000\n",
       "mean      0.094549\n",
       "std       0.079425\n",
       "min       0.005150\n",
       "25%       0.041987\n",
       "50%       0.067026\n",
       "75%       0.128896\n",
       "max       0.397170\n",
       "Name: Wins, dtype: float64"
      ]
     },
     "execution_count": 80,
     "metadata": {},
     "output_type": "execute_result"
    }
   ],
   "source": [
    "# lasso is better. I now the average is worse however the worst prediction, the super injured warriors \n",
    "# went up to 0.39 off from 0.25\n",
    "win_predict_lasso.describe()"
   ]
  },
  {
   "cell_type": "code",
   "execution_count": 81,
   "metadata": {},
   "outputs": [
    {
     "data": {
      "text/plain": [
       "array([0.55787981, 0.5463663 , 0.55506138, 0.4824374 , 0.49312523,\n",
       "       0.49154732, 0.48611647, 0.62816985, 0.53078188, 0.46771476,\n",
       "       0.58447296, 0.50342902, 0.54269627, 0.50502811, 0.58384956,\n",
       "       0.37373507, 0.49471662, 0.46487469, 0.39677289, 0.47640391,\n",
       "       0.51916351, 0.56732251, 0.47273362, 0.4689958 , 0.5589189 ,\n",
       "       0.42457905, 0.49032162, 0.54341357, 0.54507708, 0.51728222])"
      ]
     },
     "execution_count": 81,
     "metadata": {},
     "output_type": "execute_result"
    }
   ],
   "source": [
    "y_pred_lasso"
   ]
  },
  {
   "cell_type": "code",
   "execution_count": 21,
   "metadata": {},
   "outputs": [
    {
     "data": {
      "image/png": "[encoded data removed]",
      "text/plain": [
       "<Figure size 432x288 with 1 Axes>"
      ]
     },
     "metadata": {
      "needs_background": "light"
     },
     "output_type": "display_data"
    }
   ],
   "source": [
    "# lasso will tell you the most influential variables\n",
    "_ = plt.plot(range(len(names)), lasso_coef)\n",
    "_ = plt.xticks(range(len(names)), names, rotation=60)\n",
    "_ = plt.ylabel('coef')\n",
    "plt.show()"
   ]
  },
  {
   "cell_type": "markdown",
   "metadata": {},
   "source": [
    "7 players percent of total salary, 7 players % salary cap, and 2 players Salary cap"
   ]
  },
  {
   "cell_type": "code",
   "execution_count": 22,
   "metadata": {},
   "outputs": [
    {
     "data": {
      "image/png": "[encoded data removed]",
      "text/plain": [
       "<Figure size 432x288 with 1 Axes>"
      ]
     },
     "metadata": {
      "needs_background": "light"
     },
     "output_type": "display_data"
    }
   ],
   "source": [
    "# let's see how the ridge proformed the weighting of features\n",
    "_ = plt.plot(range(len(names)), ridge_coef)\n",
    "_ = plt.xticks(range(len(names)), names, rotation=60)\n",
    "_ = plt.ylabel('coef')\n",
    "_ = plt.grid()\n",
    "plt.show()"
   ]
  },
  {
   "cell_type": "markdown",
   "metadata": {},
   "source": [
    "the favorite variable was also 7% total salary, however preferred 3 player total salary second and 10 Total salary"
   ]
  },
  {
   "cell_type": "code",
   "execution_count": 37,
   "metadata": {},
   "outputs": [],
   "source": [
    "# Linear Regression model\n",
    "lr = linear_model.LinearRegression()"
   ]
  },
  {
   "cell_type": "code",
   "execution_count": 38,
   "metadata": {},
   "outputs": [
    {
     "data": {
      "text/plain": [
       "0.5201432823399936"
      ]
     },
     "execution_count": 38,
     "metadata": {},
     "output_type": "execute_result"
    }
   ],
   "source": [
    "# again fit to standard scaler\n",
    "lr.fit(X_train_scaled, y_train)\n",
    "lr.score(X_train_scaled, y_train)"
   ]
  },
  {
   "cell_type": "markdown",
   "metadata": {},
   "source": [
    "This is better than ridge cv"
   ]
  },
  {
   "cell_type": "code",
   "execution_count": 40,
   "metadata": {},
   "outputs": [
    {
     "data": {
      "text/plain": [
       "6      0.095633\n",
       "61     0.123779\n",
       "90     0.094323\n",
       "30     0.081238\n",
       "31     0.004801\n",
       "55     0.157653\n",
       "109    0.087213\n",
       "98     0.168152\n",
       "59     0.128240\n",
       "103    0.002901\n",
       "126    0.028352\n",
       "97     0.218431\n",
       "74     0.183252\n",
       "67     0.077249\n",
       "115    0.069700\n",
       "25     0.058423\n",
       "95     0.105853\n",
       "100    0.180827\n",
       "9      0.042723\n",
       "129    0.068680\n",
       "71     0.001786\n",
       "47     0.059452\n",
       "86     0.075025\n",
       "57     0.056344\n",
       "48     0.232309\n",
       "5      0.051844\n",
       "112    0.170649\n",
       "148    0.245342\n",
       "122    0.063507\n",
       "78     0.099308\n",
       "Name: Wins, dtype: float64"
      ]
     },
     "execution_count": 40,
     "metadata": {},
     "output_type": "execute_result"
    }
   ],
   "source": [
    "# generating linear regression predictions\n",
    "LR_y_pred = lr.predict(X_test_scaled)\n",
    "\n",
    "# difference between predictions and reality\n",
    "linear_pred = LR_y_pred-y_test\n",
    "\n",
    "# checking results\n",
    "LR_win_abs = abs(linear_pred)\n",
    "LR_win_abs"
   ]
  },
  {
   "cell_type": "code",
   "execution_count": 42,
   "metadata": {},
   "outputs": [
    {
     "data": {
      "text/plain": [
       "array([0.52631807, 0.53475741, 0.51667728, 0.50412829, 0.5657766 ,\n",
       "       0.47649314, 0.53921253, 0.39915211, 0.54249176, 0.41990112,\n",
       "       0.62442579, 0.51356925, 0.58569071, 0.52846807, 0.5193004 ,\n",
       "       0.28304086, 0.36014721, 0.39217341, 0.34752123, 0.36187533,\n",
       "       0.58715181, 0.58384265, 0.43716972, 0.41000228, 0.67133323,\n",
       "       0.34452707, 0.47364894, 0.62034152, 0.51982675, 0.57491819])"
      ]
     },
     "execution_count": 42,
     "metadata": {},
     "output_type": "execute_result"
    }
   ],
   "source": [
    "LR_y_pred"
   ]
  },
  {
   "cell_type": "markdown",
   "metadata": {},
   "source": [
    "The worst predictions came from 148, 48, 97, 74, 100\n",
    "We already know who 48 (charlotte hornets) and 97 (injured warriors)"
   ]
  },
  {
   "cell_type": "code",
   "execution_count": 41,
   "metadata": {},
   "outputs": [
    {
     "data": {
      "text/plain": [
       "Season            2020-21\n",
       "Row ID                 28\n",
       "Team      Toronto Raptors\n",
       "Wins                0.375\n",
       "1 TS           30559200.0\n",
       "1% TS           23.905854\n",
       "1% SC                28.0\n",
       "2 TS           61059200.0\n",
       "2% TS           47.765397\n",
       "2% SC           55.945758\n",
       "3 TS           82309200.0\n",
       "3% TS            64.38885\n",
       "3% SC           75.416163\n",
       "4 TS           92356650.0\n",
       "4% TS            72.24877\n",
       "4% SC           84.622183\n",
       "5 TS           99356650.0\n",
       "5% TS            77.72473\n",
       "5% SC           91.035963\n",
       "6 TS          105856650.0\n",
       "6% TS           82.809551\n",
       "6% SC           96.991616\n",
       "7 TS          109856650.0\n",
       "7% TS           85.938672\n",
       "7% SC          100.656634\n",
       "8 TS          113728865.0\n",
       "8% TS           88.967828\n",
       "8% SC          104.204568\n",
       "9 TS          117533015.0\n",
       "9% TS           91.943739\n",
       "9% SC          107.690137\n",
       "10 TS         119791015.0\n",
       "10% TS          93.710128\n",
       "10% SC         109.759039\n",
       "Name: 148, dtype: object"
      ]
     },
     "execution_count": 41,
     "metadata": {},
     "output_type": "execute_result"
    }
   ],
   "source": [
    "# who is 148. The pandemic 2020-21 Toronto raptors! this team played home games in tampa, Fl\n",
    "# so they wouldn't have to cross the border all the time. \n",
    "# y_pred 0.62034152  y_test 0.375\n",
    "NBA.iloc[148]"
   ]
  },
  {
   "cell_type": "code",
   "execution_count": 43,
   "metadata": {},
   "outputs": [
    {
     "data": {
      "text/plain": [
       "Season              2018-19\n",
       "Row ID                   14\n",
       "Team      Memphis Grizzlies\n",
       "Wins               0.402439\n",
       "1 TS             30521116.0\n",
       "1% TS             24.440927\n",
       "1% SC             29.961142\n",
       "2 TS             54628374.0\n",
       "2% TS             43.745717\n",
       "2% SC             53.626102\n",
       "3 TS             71167700.0\n",
       "3% TS             56.990202\n",
       "3% SC              69.86198\n",
       "4 TS             83167700.0\n",
       "4% TS             66.599652\n",
       "4% SC             81.641814\n",
       "5 TS             91808700.0\n",
       "5% TS             73.519256\n",
       "5% SC             90.124277\n",
       "6 TS            100142033.0\n",
       "6% TS             80.192485\n",
       "6% SC             98.304718\n",
       "7 TS            106057073.0\n",
       "7% TS             84.929175\n",
       "7% SC            104.111234\n",
       "8 TS            110441689.0\n",
       "8% TS             88.440321\n",
       "8% SC            108.415405\n",
       "9 TS            112978587.0\n",
       "9% TS             90.471837\n",
       "9% SC            110.905758\n",
       "10 TS           115154847.0\n",
       "10% TS            92.214558\n",
       "10% SC            113.04209\n",
       "Name: 74, dtype: object"
      ]
     },
     "execution_count": 43,
     "metadata": {},
     "output_type": "execute_result"
    }
   ],
   "source": [
    "# Just an aging team that traded their players away\n",
    "# i would not have guessed they would win 48 (0.5856) wins however I would have guessed... something like 44\n",
    "# this one is just wrong\n",
    "# y_pred 0.58569071 y_test 0.40\n",
    "NBA.iloc[74]"
   ]
  },
  {
   "cell_type": "code",
   "execution_count": 44,
   "metadata": {},
   "outputs": [
    {
     "data": {
      "text/plain": [
       "Season             2019-20\n",
       "Row ID                  10\n",
       "Team      Dallas Mavericks\n",
       "Wins                 0.573\n",
       "1 TS            27285000.0\n",
       "1% TS             22.34829\n",
       "1% SC                 25.0\n",
       "2 TS            45435000.0\n",
       "2% TS            37.214388\n",
       "2% SC            41.630016\n",
       "3 TS            58194670.0\n",
       "3% TS            47.665435\n",
       "3% SC             53.32112\n",
       "4 TS            68454045.0\n",
       "4% TS            56.068568\n",
       "4% SC            62.721317\n",
       "5 TS            77927729.0\n",
       "5% TS            63.828166\n",
       "5% SC            71.401621\n",
       "6 TS            85927729.0\n",
       "6% TS            70.380716\n",
       "6% SC            78.731656\n",
       "7 TS            93611089.0\n",
       "7% TS            76.673916\n",
       "7% SC            85.771568\n",
       "8 TS           101072469.0\n",
       "8% TS            82.785299\n",
       "8% SC             92.60809\n",
       "9 TS           105072469.0\n",
       "9% TS            86.061574\n",
       "9% SC            96.273107\n",
       "10 TS          108572469.0\n",
       "10% TS           88.928315\n",
       "10% SC           99.479997\n",
       "Name: 100, dtype: object"
      ]
     },
     "execution_count": 44,
     "metadata": {},
     "output_type": "execute_result"
    }
   ],
   "source": [
    "#Luka's Rookie season! ya this team definitely out performed their estimates\n",
    "# y_pred 0.39217341 (32 wins) y_test 0.573 (46 wins)\n",
    "NBA.iloc[100]"
   ]
  },
  {
   "cell_type": "code",
   "execution_count": 45,
   "metadata": {},
   "outputs": [
    {
     "data": {
      "text/plain": [
       "count    30.000000\n",
       "mean      0.101100\n",
       "std       0.066832\n",
       "min       0.001786\n",
       "25%       0.058680\n",
       "50%       0.084225\n",
       "75%       0.150300\n",
       "max       0.245342\n",
       "Name: Wins, dtype: float64"
      ]
     },
     "execution_count": 45,
     "metadata": {},
     "output_type": "execute_result"
    }
   ],
   "source": [
    "# let's explore how close it is\n",
    "# average of 8.2 wins off real.. 25% 4.8 wins off.. 50% 6.89 wins off\n",
    "# this was slightly worse.  this makes sense. Linear Regression is ridge regression was alpha = 0 \n",
    "\n",
    "LR_win_abs.describe()"
   ]
  },
  {
   "cell_type": "code",
   "execution_count": 47,
   "metadata": {},
   "outputs": [
    {
     "data": {
      "text/plain": [
       "0.013239120843509382"
      ]
     },
     "execution_count": 47,
     "metadata": {},
     "output_type": "execute_result"
    }
   ],
   "source": [
    "# mean squared error for ridge cv\n",
    "mean_squared_error(y_test, y_predRIDGE)"
   ]
  },
  {
   "cell_type": "code",
   "execution_count": 48,
   "metadata": {},
   "outputs": [
    {
     "data": {
      "text/plain": [
       "0.014538732733912032"
      ]
     },
     "execution_count": 48,
     "metadata": {},
     "output_type": "execute_result"
    }
   ],
   "source": [
    "# mean squared error for linear regression\n",
    "mean_squared_error(y_test, LR_y_pred)"
   ]
  },
  {
   "cell_type": "markdown",
   "metadata": {},
   "source": [
    "The mean squared error is consistant that ridge was better than linear Reg"
   ]
  },
  {
   "cell_type": "code",
   "execution_count": 49,
   "metadata": {},
   "outputs": [
    {
     "data": {
      "image/png": "[encoded data removed]",
      "text/plain": [
       "<Figure size 432x288 with 1 Axes>"
      ]
     },
     "metadata": {
      "needs_background": "light"
     },
     "output_type": "display_data"
    }
   ],
   "source": [
    "# checking some decomp\n",
    "pca = PCA()\n",
    "pca.fit(X_train_scaled)\n",
    "features = range(pca.n_components_)\n",
    "plt.bar(features, pca.explained_variance_)\n",
    "plt.xticks(features)\n",
    "plt.ylabel('variance')\n",
    "plt.xlabel('pca features')\n",
    "plt.show()"
   ]
  },
  {
   "cell_type": "code",
   "execution_count": 84,
   "metadata": {},
   "outputs": [],
   "source": [
    "#this agrees with lasso that only 3 features are meaningful; \n",
    "#get 2 great players and then also spend most of your money on the top 7"
   ]
  },
  {
   "cell_type": "code",
   "execution_count": 75,
   "metadata": {},
   "outputs": [
    {
     "name": "stdout",
     "output_type": "stream",
     "text": [
      "what's my alpha! :  2.4999999999999996\n"
     ]
    }
   ],
   "source": [
    "# before I head over to the next type of model\n",
    "# let's see if we can make ridgecv even better.  Ridge cv does automate some hyperparameter tuning already.\n",
    "\n",
    "# new ridge default scoring is neg_mean_absolute_error\n",
    "ridge_2 = linear_model.RidgeCV(alphas = np.arange(0.5, 20, 0.1), scoring='r2') \n",
    "model_ridge_2 = ridge_2.fit(X_train_scaled, y_train)\n",
    "ridge_2_coef = ridge_std.fit(X_train_scaled, y_train).coef_\n",
    "\n",
    "print(\"what's my alpha! : \", model_ridge_2.alpha_)"
   ]
  },
  {
   "cell_type": "code",
   "execution_count": 76,
   "metadata": {},
   "outputs": [
    {
     "data": {
      "text/plain": [
       "6      0.035796\n",
       "61     0.104738\n",
       "90     0.072953\n",
       "30     0.108227\n",
       "31     0.078985\n",
       "55     0.109768\n",
       "109    0.016494\n",
       "98     0.289683\n",
       "59     0.127753\n",
       "103    0.025886\n",
       "126    0.059496\n",
       "97     0.233223\n",
       "74     0.163378\n",
       "67     0.061959\n",
       "115    0.042112\n",
       "25     0.023222\n",
       "95     0.031110\n",
       "100    0.125315\n",
       "9      0.023914\n",
       "129    0.042379\n",
       "71     0.039865\n",
       "47     0.062209\n",
       "86     0.060020\n",
       "57     0.071577\n",
       "48     0.198035\n",
       "5      0.082451\n",
       "112    0.173172\n",
       "148    0.139512\n",
       "122    0.011773\n",
       "78     0.083526\n",
       "Name: Wins, dtype: float64"
      ]
     },
     "execution_count": 76,
     "metadata": {},
     "output_type": "execute_result"
    }
   ],
   "source": [
    "#check how it is doing with the new BIG alpha \n",
    "\n",
    "y_predRIDGE_2 = model_ridge_2.predict(X_test_scaled)\n",
    "win_predict_ridge_2 = y_predRIDGE_2-y_test\n",
    "win_predict_ridge_2 = abs(win_predict_ridge_2)\n",
    "win_predict_ridge_2"
   ]
  },
  {
   "cell_type": "code",
   "execution_count": 77,
   "metadata": {},
   "outputs": [
    {
     "data": {
      "text/plain": [
       "0.3356105775220761"
      ]
     },
     "execution_count": 77,
     "metadata": {},
     "output_type": "execute_result"
    }
   ],
   "source": [
    "# r2 is worse...\n",
    "model_ridge_2.score(X_train_scaled, y_train)"
   ]
  },
  {
   "cell_type": "code",
   "execution_count": 78,
   "metadata": {},
   "outputs": [
    {
     "data": {
      "text/plain": [
       "(count    30.000000\n",
       " mean      0.089951\n",
       " std       0.067620\n",
       " min       0.011773\n",
       " 25%       0.040427\n",
       " 50%       0.072265\n",
       " 75%       0.121428\n",
       " max       0.289683\n",
       " Name: Wins, dtype: float64,\n",
       " count    30.000000\n",
       " mean      0.091774\n",
       " std       0.070588\n",
       " min       0.002999\n",
       " 25%       0.047668\n",
       " 50%       0.071564\n",
       " 75%       0.137575\n",
       " max       0.250479\n",
       " Name: Wins, dtype: float64)"
      ]
     },
     "execution_count": 78,
     "metadata": {},
     "output_type": "execute_result"
    }
   ],
   "source": [
    "# but predictions are better on average\n",
    "win_predict_ridge_2.describe(), abs_win.describe()"
   ]
  },
  {
   "cell_type": "markdown",
   "metadata": {},
   "source": [
    "the ridge model really likes an alpha near zero. however if you remove that as an option alpha = 2.5 gets better predictions"
   ]
  },
  {
   "cell_type": "code",
   "execution_count": null,
   "metadata": {},
   "outputs": [],
   "source": []
  },
  {
   "cell_type": "code",
   "execution_count": 98,
   "metadata": {},
   "outputs": [
    {
     "data": {
      "text/plain": [
       "0.25385423554108644"
      ]
     },
     "execution_count": 98,
     "metadata": {},
     "output_type": "execute_result"
    }
   ],
   "source": [
    "#let's test lasso with newer alphas\n",
    "\n",
    "lasso_2 = linear_model.LassoCV(max_iter=200000, alphas=np.arange(0.001,3,0.001))\n",
    "model_lasso_2 = lasso_2.fit(X_train_scaled, y_train)\n",
    "lasso_coef_2 = lasso_2.fit(X_train_scaled, y_train).coef_\n",
    "model_lasso_2.score(X_train_scaled, y_train)\n"
   ]
  },
  {
   "cell_type": "markdown",
   "metadata": {},
   "source": [
    "That is a nicer score"
   ]
  },
  {
   "cell_type": "code",
   "execution_count": 99,
   "metadata": {},
   "outputs": [
    {
     "data": {
      "text/plain": [
       "0.010000000000000002"
      ]
     },
     "execution_count": 99,
     "metadata": {},
     "output_type": "execute_result"
    }
   ],
   "source": [
    "model_lasso_2.alpha_"
   ]
  },
  {
   "cell_type": "code",
   "execution_count": 104,
   "metadata": {},
   "outputs": [
    {
     "data": {
      "text/plain": [
       "6      0.064097\n",
       "61     0.112199\n",
       "90     0.055972\n",
       "30     0.102904\n",
       "31     0.067843\n",
       "55     0.142587\n",
       "109    0.034131\n",
       "98     0.397082\n",
       "59     0.139977\n",
       "103    0.050742\n",
       "126    0.068366\n",
       "97     0.228586\n",
       "74     0.140230\n",
       "67     0.053805\n",
       "115    0.005211\n",
       "25     0.032369\n",
       "95     0.028727\n",
       "100    0.108098\n",
       "9      0.006608\n",
       "129    0.045866\n",
       "71     0.066212\n",
       "47     0.042899\n",
       "86     0.039431\n",
       "57     0.115366\n",
       "48     0.119869\n",
       "5      0.131959\n",
       "112    0.187329\n",
       "148    0.168383\n",
       "122    0.038288\n",
       "78     0.041676\n",
       "Name: Wins, dtype: float64"
      ]
     },
     "execution_count": 104,
     "metadata": {},
     "output_type": "execute_result"
    }
   ],
   "source": [
    "y_pred_lasso_2 = model_lasso_2.predict(X_test_scaled)\n",
    "win_predict_lasso_2 = y_pred_lasso_2-y_test\n",
    "win_predict_lasso_2 = abs(win_predict_lasso_2)\n",
    "win_predict_lasso_2"
   ]
  },
  {
   "cell_type": "code",
   "execution_count": 105,
   "metadata": {},
   "outputs": [
    {
     "data": {
      "text/plain": [
       "(count    30.000000\n",
       " mean      0.094560\n",
       " std       0.079404\n",
       " min       0.005211\n",
       " 25%       0.041982\n",
       " 50%       0.067028\n",
       " 75%       0.128937\n",
       " max       0.397082\n",
       " Name: Wins, dtype: float64,\n",
       " count    30.000000\n",
       " mean      0.089951\n",
       " std       0.067620\n",
       " min       0.011773\n",
       " 25%       0.040427\n",
       " 50%       0.072265\n",
       " 75%       0.121428\n",
       " max       0.289683\n",
       " Name: Wins, dtype: float64,\n",
       " count    30.000000\n",
       " mean      0.091774\n",
       " std       0.070588\n",
       " min       0.002999\n",
       " 25%       0.047668\n",
       " 50%       0.071564\n",
       " 75%       0.137575\n",
       " max       0.250479\n",
       " Name: Wins, dtype: float64)"
      ]
     },
     "execution_count": 105,
     "metadata": {},
     "output_type": "execute_result"
    }
   ],
   "source": [
    "## lasso                           ridge_2                         ridge 1\n",
    "win_predict_lasso_2.describe(), win_predict_ridge_2.describe(), abs_win.describe()"
   ]
  },
  {
   "cell_type": "code",
   "execution_count": 106,
   "metadata": {},
   "outputs": [
    {
     "data": {
      "text/plain": [
       "0.39708215677482395"
      ]
     },
     "execution_count": 106,
     "metadata": {},
     "output_type": "execute_result"
    }
   ],
   "source": [
    "np.max(win_predict_lasso_2)"
   ]
  },
  {
   "cell_type": "code",
   "execution_count": 102,
   "metadata": {},
   "outputs": [
    {
     "data": {
      "text/plain": [
       "array([0.5578544 , 0.54633777, 0.5550283 , 0.48246188, 0.49313227,\n",
       "       0.49155972, 0.48613084, 0.62808216, 0.53075448, 0.46774205,\n",
       "       0.58441156, 0.50341377, 0.5426693 , 0.50502441, 0.58378924,\n",
       "       0.3738328 , 0.49472724, 0.46490177, 0.39685231, 0.47642177,\n",
       "       0.51915404, 0.56728959, 0.47276363, 0.46902411, 0.55889299,\n",
       "       0.42464226, 0.49032925, 0.54338262, 0.54504559, 0.51728553])"
      ]
     },
     "execution_count": 102,
     "metadata": {},
     "output_type": "execute_result"
    }
   ],
   "source": [
    "y_pred_lasso_2"
   ]
  },
  {
   "cell_type": "code",
   "execution_count": 111,
   "metadata": {},
   "outputs": [
    {
     "name": "stdout",
     "output_type": "stream",
     "text": [
      "lasso 2 :  0.08412864840923184 lasso 1 :  0.08411414287017498 ridge 2 :  0.0830636816400322 ridge 1 :  0.0863015340766084\n"
     ]
    }
   ],
   "source": [
    "# total difference, removing the worst prediction, then calculating the new average difference\n",
    "print(\"lasso 2 : \",(np.sum(win_predict_lasso_2)-np.max(win_predict_lasso_2))/29,\n",
    "      \"lasso 1 : \",(np.sum(win_predict_lasso)-np.max(win_predict_lasso))/29,\n",
    "      \"ridge 2 : \",(np.sum(win_predict_ridge_2)-np.max(win_predict_ridge_2))/29,\n",
    "      \"ridge 1 : \",(np.sum(abs_win)-np.max(abs_win))/29)"
   ]
  },
  {
   "cell_type": "markdown",
   "metadata": {},
   "source": [
    "That is close. ridge 2 eeks out a win against lasso 1. At the moment I still like lasso 1. The lasso predictions better reflect my feelings about what COULD have happened. \n"
   ]
  },
  {
   "cell_type": "code",
   "execution_count": 138,
   "metadata": {},
   "outputs": [
    {
     "data": {
      "text/plain": [
       "0.8995497612539303"
      ]
     },
     "execution_count": 138,
     "metadata": {},
     "output_type": "execute_result"
    }
   ],
   "source": [
    "# running a random forest regressor, or ensemble method. \n",
    "\n",
    "# I have selected absolute error because I am less worried about large error.\n",
    "# I am comparing to vegas predictions and if you lose a bet you lose a bet. The degree of how bad is irrelevant\n",
    "\n",
    "RandomForestReg = RandomForestRegressor(n_estimators=1000, criterion='mae')\n",
    "RFR_model = RandomForestReg.fit(X_train_scaled,y_train)\n",
    "RFR_pred = RFR_model.predict(X_test_scaled)\n",
    "RFR_model.score(X_train_scaled,y_train)\n"
   ]
  },
  {
   "cell_type": "code",
   "execution_count": 139,
   "metadata": {},
   "outputs": [
    {
     "data": {
      "text/plain": [
       "6      0.127859\n",
       "61     0.082225\n",
       "90     0.062166\n",
       "30     0.069254\n",
       "31     0.056472\n",
       "55     0.152406\n",
       "109    0.002156\n",
       "98     0.392603\n",
       "59     0.046961\n",
       "103    0.055943\n",
       "126    0.019826\n",
       "97     0.265340\n",
       "74     0.162207\n",
       "67     0.027247\n",
       "115    0.062766\n",
       "25     0.039204\n",
       "95     0.010597\n",
       "100    0.095265\n",
       "9      0.025468\n",
       "129    0.005042\n",
       "71     0.032455\n",
       "47     0.041193\n",
       "86     0.039845\n",
       "57     0.136163\n",
       "48     0.071759\n",
       "5      0.084856\n",
       "112    0.185994\n",
       "148    0.235150\n",
       "122    0.022686\n",
       "78     0.079993\n",
       "Name: Wins, dtype: float64"
      ]
     },
     "execution_count": 139,
     "metadata": {},
     "output_type": "execute_result"
    }
   ],
   "source": [
    "# determining how close predictions are\n",
    "WP_RandomForestR = RFR_pred-y_test\n",
    "WP_RandomForestR = abs(WP_RandomForestR)\n",
    "WP_RandomForestR"
   ]
  },
  {
   "cell_type": "code",
   "execution_count": 140,
   "metadata": {},
   "outputs": [
    {
     "data": {
      "text/plain": [
       "count    30.000000\n",
       "mean      0.089703\n",
       "std       0.087392\n",
       "min       0.002156\n",
       "25%       0.034142\n",
       "50%       0.062466\n",
       "75%       0.119711\n",
       "max       0.392603\n",
       "Name: Wins, dtype: float64"
      ]
     },
     "execution_count": 140,
     "metadata": {},
     "output_type": "execute_result"
    }
   ],
   "source": [
    "# better average with a high max\n",
    "WP_RandomForestR.describe()"
   ]
  },
  {
   "cell_type": "code",
   "execution_count": 141,
   "metadata": {},
   "outputs": [
    {
     "name": "stdout",
     "output_type": "stream",
     "text": [
      "lasso 1 :  0.08411414287017498 ridge 2 :  0.0830636816400322 RandomF 1 :  0.07925860877488114\n"
     ]
    }
   ],
   "source": [
    "# total difference, removing the worst prediction, then calculating the new average difference\n",
    "print(\"lasso 1 : \",(np.sum(win_predict_lasso)-np.max(win_predict_lasso))/29,\n",
    "      \"ridge 2 : \",(np.sum(win_predict_ridge_2)-np.max(win_predict_ridge_2))/29,\n",
    "      \"RandomF 1 : \",(np.sum(WP_RandomForestR)-np.max(WP_RandomForestR))/29)"
   ]
  },
  {
   "cell_type": "code",
   "execution_count": null,
   "metadata": {},
   "outputs": [],
   "source": [
    "# New Leader 6.5 wins off on average. "
   ]
  }
 ],
 "metadata": {
  "kernelspec": {
   "display_name": "Python 3 (ipykernel)",
   "language": "python",
   "name": "python3"
  },
  "language_info": {
   "codemirror_mode": {
    "name": "ipython",
    "version": 3
   },
   "file_extension": ".py",
   "mimetype": "text/x-python",
   "name": "python",
   "nbconvert_exporter": "python",
   "pygments_lexer": "ipython3",
   "version": "3.8.12"
  }
 },
 "nbformat": 4,
 "nbformat_minor": 4
}
